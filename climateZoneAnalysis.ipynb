{
 "cells": [
  {
   "cell_type": "markdown",
   "metadata": {},
   "source": []
  },
  {
   "cell_type": "markdown",
   "metadata": {},
   "source": [
    "# 1 climatezone per country / state"
   ]
  },
  {
   "cell_type": "markdown",
   "metadata": {},
   "source": [
    "## US States\n",
    "\n",
    "- decide on a states climatezone based on the counties climatezones and weighted by population. In other words: in what climate zones do people in that state live We do this to anaylze in what conditions beer-reviewers live.\n",
    "County climatezone data from US department for energy: https://www.energy.gov/sites/prod/files/2015/10/f27/ba_climate_region_guide_7.3.pdf\n",
    "- county population data from: https://www.census.gov/data/tables/time-series/demo/popest/2020s-counties-total.html\n",
    "- used formatted table from github: https://gist.github.com/philngo/d3e251040569dba67942#file-climate_zones-csv\n",
    "- state abbreviation list:https://www.faa.gov/air_traffic/publications/atpubs/cnt_html/appendix_a.html\n",
    "---\n",
    "\n",
    "- Do we include insular areas and territories?\n"
   ]
  },
  {
   "cell_type": "code",
   "execution_count": 90,
   "metadata": {},
   "outputs": [
    {
     "name": "stderr",
     "output_type": "stream",
     "text": [
      "c:\\Users\\jakob\\Documents\\GitHub\\ADA_project_MAIN\\ada-2024-project-leonardodatavinci\\climateZoneLoaderUS.py:27: UserWarning: This pattern is interpreted as a regular expression, and has match groups. To actually get the groups, use str.extract.\n",
      "  match = countiesPopulation_df[countiesPopulation_df['County'].str.contains(row['County'], case=False, na=False)]\n"
     ]
    },
    {
     "data": {
      "text/html": [
       "<div>\n",
       "<style scoped>\n",
       "    .dataframe tbody tr th:only-of-type {\n",
       "        vertical-align: middle;\n",
       "    }\n",
       "\n",
       "    .dataframe tbody tr th {\n",
       "        vertical-align: top;\n",
       "    }\n",
       "\n",
       "    .dataframe thead th {\n",
       "        text-align: right;\n",
       "    }\n",
       "</style>\n",
       "<table border=\"1\" class=\"dataframe\">\n",
       "  <thead>\n",
       "    <tr style=\"text-align: right;\">\n",
       "      <th></th>\n",
       "      <th>State</th>\n",
       "      <th>IECC Climate Zone</th>\n",
       "      <th>Population</th>\n",
       "    </tr>\n",
       "  </thead>\n",
       "  <tbody>\n",
       "    <tr>\n",
       "      <th>0</th>\n",
       "      <td>AK</td>\n",
       "      <td>7</td>\n",
       "      <td>555076.0</td>\n",
       "    </tr>\n",
       "    <tr>\n",
       "      <th>3</th>\n",
       "      <td>AL</td>\n",
       "      <td>3</td>\n",
       "      <td>4377717.0</td>\n",
       "    </tr>\n",
       "    <tr>\n",
       "      <th>4</th>\n",
       "      <td>AR</td>\n",
       "      <td>3</td>\n",
       "      <td>3483542.0</td>\n",
       "    </tr>\n",
       "    <tr>\n",
       "      <th>6</th>\n",
       "      <td>AS</td>\n",
       "      <td>1</td>\n",
       "      <td>0.0</td>\n",
       "    </tr>\n",
       "    <tr>\n",
       "      <th>7</th>\n",
       "      <td>AZ</td>\n",
       "      <td>2</td>\n",
       "      <td>6116085.0</td>\n",
       "    </tr>\n",
       "  </tbody>\n",
       "</table>\n",
       "</div>"
      ],
      "text/plain": [
       "  State  IECC Climate Zone  Population\n",
       "0    AK                  7    555076.0\n",
       "3    AL                  3   4377717.0\n",
       "4    AR                  3   3483542.0\n",
       "6    AS                  1         0.0\n",
       "7    AZ                  2   6116085.0"
      ]
     },
     "execution_count": 90,
     "metadata": {},
     "output_type": "execute_result"
    }
   ],
   "source": [
    "# main_script.py\n",
    "\n",
    "from climateZoneLoaderUS import add_population_to_climate_data, get_most_populated_climate_zone\n",
    "\n",
    "# Define paths\n",
    "countiesClimate_df_path = \"data/climatezones/climate_zones.csv\"\n",
    "countiesPopulation_df_path = \"data/climatezones/countyPopulation.xlsx\"\n",
    "\n",
    "# Get the climate data with population\n",
    "climate_data_with_population = add_population_to_climate_data(countiesClimate_df_path, countiesPopulation_df_path)\n",
    "\n",
    "# Get the most populated climate zone for each state\n",
    "most_populated_climate_zone = get_most_populated_climate_zone(climate_data_with_population)\n",
    "\n",
    "# View the result\n",
    "most_populated_climate_zone.head()\n"
   ]
  }
 ],
 "metadata": {
  "kernelspec": {
   "display_name": "Python 3",
   "language": "python",
   "name": "python3"
  },
  "language_info": {
   "codemirror_mode": {
    "name": "ipython",
    "version": 3
   },
   "file_extension": ".py",
   "mimetype": "text/x-python",
   "name": "python",
   "nbconvert_exporter": "python",
   "pygments_lexer": "ipython3",
   "version": "3.11.9"
  }
 },
 "nbformat": 4,
 "nbformat_minor": 2
}
