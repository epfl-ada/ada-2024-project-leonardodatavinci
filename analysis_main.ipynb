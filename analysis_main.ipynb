{
 "cells": [
  {
   "cell_type": "markdown",
   "metadata": {},
   "source": [
    "# Abstract\n",
    "TODO:\n",
    "- motivate our task\n",
    "- motivate the subtasks\n",
    "- start with why we take which data\n",
    "\n",
    "In this project we try to understand and identify seasonal fluctuations with respect to the beer ratings. \n",
    "\n",
    "Generally, we'd wish for a rating to be robust to effects different than the beers specifications. As ratings are written by human beings, this is most likely not the case. they change over time. There are a lot of factors that could impact human beeings to rate beer differently, such as beer trends, new beers, changing ingredients for a beer, a changing rating system ... These changes are either due to an aprupt event or to a rather long term change. \n",
    "\n",
    "Apparently the ratings also change over a shorter frequency. What we're interested in for this research are reocurring events of short frequencies. Apart from the fluctuations of the ratings over the years, can we find reoccuring fluctuations of the rating in between one year, on a seasonal basis? Why try to tackle it in two steps: \n",
    "- First we try to find seasonal patterns in the rating.\n",
    "- Then we try to understand them in that we imagine what the greatest seasonal impacts could be and if they have a significant impact on the rating. We came up with:\n",
    "  - Changes in the set of beers that the users rate\n",
    "  - Changes on the user such that it rates the beer differently, such as the weather."
   ]
  },
  {
   "cell_type": "markdown",
   "metadata": {},
   "source": [
    "This project investigates seasonal fluctuations in beer ratings, aiming to determine whether ratings vary periodically within a year and if these changes are significant.\n",
    "\n",
    "Ideally, a beer rating would consistently reflect the beer’s inherent qualities, unaffected by external factors. However, as ratings are subjective assessments made by human beings, they are susceptible to various influences that evolve over time. Factors like beer trends, the introduction of new beers, ingredient adjustments or modifications to the rating system can all impact how a beer is rated, either as sudden shifts or gradual trends.\n",
    "\n",
    "Our primary focus is on identifying recurring short-term patterns in beer ratings within a single year. Specifically, we aim to discover if seasonal influences cause noticeable, cyclical fluctuations. Our approach involves two main steps:\n",
    "\n",
    "- Identifying Seasonal Patterns: First, we analyze the data and try to detect seasonal patterns in the ratings.\n",
    "- Understanding Seasonal Influences: Next, we assess potential factors driving these patterns. We hypothesize that two primary influences could contribute to seasonal changes:\n",
    "  - Variations in the set of beers being rated seasonally.\n",
    "  - Changes in user behavior, potentially influenced by factors like seasonal weather conditions.\n",
    "We will provide insight into the extent of seasonal effects on beer ratings and help clarify the robustness of ratings relative to seasonal influences."
   ]
  },
  {
   "cell_type": "markdown",
   "metadata": {},
   "source": []
  }
 ],
 "metadata": {
  "language_info": {
   "name": "python"
  }
 },
 "nbformat": 4,
 "nbformat_minor": 2
}
