{
 "cells": [
  {
   "cell_type": "code",
   "execution_count": 1,
   "metadata": {},
   "outputs": [],
   "source": [
    "import pandas as pd\n",
    "import numpy as np"
   ]
  },
  {
   "cell_type": "code",
   "execution_count": 4,
   "metadata": {},
   "outputs": [],
   "source": [
    "beer_df = pd.read_csv(\"data/beerAdvocateReviewsUSA.csv\")"
   ]
  },
  {
   "cell_type": "code",
   "execution_count": 5,
   "metadata": {},
   "outputs": [
    {
     "data": {
      "text/html": [
       "<div>\n",
       "<style scoped>\n",
       "    .dataframe tbody tr th:only-of-type {\n",
       "        vertical-align: middle;\n",
       "    }\n",
       "\n",
       "    .dataframe tbody tr th {\n",
       "        vertical-align: top;\n",
       "    }\n",
       "\n",
       "    .dataframe thead th {\n",
       "        text-align: right;\n",
       "    }\n",
       "</style>\n",
       "<table border=\"1\" class=\"dataframe\">\n",
       "  <thead>\n",
       "    <tr style=\"text-align: right;\">\n",
       "      <th></th>\n",
       "      <th>Unnamed: 0</th>\n",
       "      <th>rating</th>\n",
       "      <th>appearance</th>\n",
       "      <th>aroma</th>\n",
       "      <th>palate</th>\n",
       "      <th>taste</th>\n",
       "      <th>overall</th>\n",
       "      <th>country_name</th>\n",
       "      <th>country_code3</th>\n",
       "      <th>state</th>\n",
       "      <th>date_object</th>\n",
       "      <th>month</th>\n",
       "      <th>year</th>\n",
       "      <th>style</th>\n",
       "      <th>beer_name</th>\n",
       "      <th>beer_id</th>\n",
       "    </tr>\n",
       "  </thead>\n",
       "  <tbody>\n",
       "    <tr>\n",
       "      <th>0</th>\n",
       "      <td>0</td>\n",
       "      <td>2.88</td>\n",
       "      <td>3.25</td>\n",
       "      <td>2.75</td>\n",
       "      <td>3.25</td>\n",
       "      <td>2.75</td>\n",
       "      <td>3.0</td>\n",
       "      <td>United States</td>\n",
       "      <td>USA</td>\n",
       "      <td>Washington</td>\n",
       "      <td>2015-08-20 12:00:00</td>\n",
       "      <td>8</td>\n",
       "      <td>2015</td>\n",
       "      <td>Euro Pale Lager</td>\n",
       "      <td>Régab</td>\n",
       "      <td>142544</td>\n",
       "    </tr>\n",
       "    <tr>\n",
       "      <th>1</th>\n",
       "      <td>1</td>\n",
       "      <td>3.67</td>\n",
       "      <td>3.00</td>\n",
       "      <td>3.50</td>\n",
       "      <td>3.50</td>\n",
       "      <td>4.00</td>\n",
       "      <td>3.5</td>\n",
       "      <td>United States</td>\n",
       "      <td>USA</td>\n",
       "      <td>New York</td>\n",
       "      <td>2009-02-20 12:00:00</td>\n",
       "      <td>2</td>\n",
       "      <td>2009</td>\n",
       "      <td>English Pale Ale</td>\n",
       "      <td>Barelegs Brew</td>\n",
       "      <td>19590</td>\n",
       "    </tr>\n",
       "  </tbody>\n",
       "</table>\n",
       "</div>"
      ],
      "text/plain": [
       "   Unnamed: 0  rating  appearance  aroma  palate  taste  overall  \\\n",
       "0           0    2.88        3.25   2.75    3.25   2.75      3.0   \n",
       "1           1    3.67        3.00   3.50    3.50   4.00      3.5   \n",
       "\n",
       "    country_name country_code3       state          date_object  month  year  \\\n",
       "0  United States           USA  Washington  2015-08-20 12:00:00      8  2015   \n",
       "1  United States           USA    New York  2009-02-20 12:00:00      2  2009   \n",
       "\n",
       "              style      beer_name  beer_id  \n",
       "0   Euro Pale Lager          Régab   142544  \n",
       "1  English Pale Ale  Barelegs Brew    19590  "
      ]
     },
     "execution_count": 5,
     "metadata": {},
     "output_type": "execute_result"
    }
   ],
   "source": [
    "beer_df.head(2)"
   ]
  },
  {
   "cell_type": "code",
   "execution_count": 6,
   "metadata": {},
   "outputs": [
    {
     "data": {
      "text/plain": [
       "array([2015, 2009, 2013, 2012, 2011, 2010, 2007, 2004, 2016, 2003, 2002,\n",
       "       2006, 2005, 2008, 2014, 2017])"
      ]
     },
     "execution_count": 6,
     "metadata": {},
     "output_type": "execute_result"
    }
   ],
   "source": [
    "beer_df['year'].unique()"
   ]
  },
  {
   "cell_type": "code",
   "execution_count": 34,
   "metadata": {},
   "outputs": [
    {
     "name": "stdout",
     "output_type": "stream",
     "text": [
      "(127181, 6)\n"
     ]
    }
   ],
   "source": [
    "ghcn_df = pd.read_csv(\"data/GHCN-daily-us-2017.csv\")\n",
    "print(ghcn_df.shape)"
   ]
  },
  {
   "cell_type": "code",
   "execution_count": 22,
   "metadata": {},
   "outputs": [
    {
     "data": {
      "text/html": [
       "<div>\n",
       "<style scoped>\n",
       "    .dataframe tbody tr th:only-of-type {\n",
       "        vertical-align: middle;\n",
       "    }\n",
       "\n",
       "    .dataframe tbody tr th {\n",
       "        vertical-align: top;\n",
       "    }\n",
       "\n",
       "    .dataframe thead th {\n",
       "        text-align: right;\n",
       "    }\n",
       "</style>\n",
       "<table border=\"1\" class=\"dataframe\">\n",
       "  <thead>\n",
       "    <tr style=\"text-align: right;\">\n",
       "      <th></th>\n",
       "      <th>STATION</th>\n",
       "      <th>NAME</th>\n",
       "      <th>DATE</th>\n",
       "      <th>PRCP</th>\n",
       "      <th>TAVG</th>\n",
       "      <th>TMAX</th>\n",
       "    </tr>\n",
       "  </thead>\n",
       "  <tbody>\n",
       "    <tr>\n",
       "      <th>0</th>\n",
       "      <td>USC00340184</td>\n",
       "      <td>ALTUS DAM, OK US</td>\n",
       "      <td>2017-01-01</td>\n",
       "      <td>0.00</td>\n",
       "      <td>NaN</td>\n",
       "      <td>56.0</td>\n",
       "    </tr>\n",
       "    <tr>\n",
       "      <th>1</th>\n",
       "      <td>USC00340184</td>\n",
       "      <td>ALTUS DAM, OK US</td>\n",
       "      <td>2017-01-02</td>\n",
       "      <td>0.05</td>\n",
       "      <td>NaN</td>\n",
       "      <td>66.0</td>\n",
       "    </tr>\n",
       "    <tr>\n",
       "      <th>2</th>\n",
       "      <td>USC00340184</td>\n",
       "      <td>ALTUS DAM, OK US</td>\n",
       "      <td>2017-01-03</td>\n",
       "      <td>0.00</td>\n",
       "      <td>NaN</td>\n",
       "      <td>65.0</td>\n",
       "    </tr>\n",
       "  </tbody>\n",
       "</table>\n",
       "</div>"
      ],
      "text/plain": [
       "       STATION              NAME        DATE  PRCP  TAVG  TMAX\n",
       "0  USC00340184  ALTUS DAM, OK US  2017-01-01  0.00   NaN  56.0\n",
       "1  USC00340184  ALTUS DAM, OK US  2017-01-02  0.05   NaN  66.0\n",
       "2  USC00340184  ALTUS DAM, OK US  2017-01-03  0.00   NaN  65.0"
      ]
     },
     "execution_count": 22,
     "metadata": {},
     "output_type": "execute_result"
    }
   ],
   "source": [
    "ghcn_df.head(3)"
   ]
  },
  {
   "cell_type": "code",
   "execution_count": 23,
   "metadata": {},
   "outputs": [
    {
     "name": "stdout",
     "output_type": "stream",
     "text": [
      "NaN counts:\n",
      "PRCP      2135\n",
      "TAVG    120413\n",
      "TMAX     28657\n",
      "dtype: int64\n",
      "\n",
      "0.0 counts:\n",
      "PRCP    90672\n",
      "TAVG        3\n",
      "TMAX       33\n",
      "dtype: int64\n"
     ]
    }
   ],
   "source": [
    "nan_counts = ghcn_df[['PRCP', 'TAVG', 'TMAX']].isna().sum()\n",
    "zero_counts = (ghcn_df[['PRCP', 'TAVG', 'TMAX']] == 0.0).sum()\n",
    "\n",
    "print(\"NaN counts:\")\n",
    "print(nan_counts)\n",
    "print(\"\\n0.0 counts:\")\n",
    "print(zero_counts)"
   ]
  },
  {
   "cell_type": "code",
   "execution_count": 35,
   "metadata": {},
   "outputs": [
    {
     "name": "stdout",
     "output_type": "stream",
     "text": [
      "(1000, 9)\n"
     ]
    }
   ],
   "source": [
    "stations_df = pd.read_csv(\"data/weather-stations.csv\")\n",
    "print(stations_df.shape)"
   ]
  },
  {
   "cell_type": "code",
   "execution_count": 27,
   "metadata": {},
   "outputs": [
    {
     "data": {
      "text/html": [
       "<div>\n",
       "<style scoped>\n",
       "    .dataframe tbody tr th:only-of-type {\n",
       "        vertical-align: middle;\n",
       "    }\n",
       "\n",
       "    .dataframe tbody tr th {\n",
       "        vertical-align: top;\n",
       "    }\n",
       "\n",
       "    .dataframe thead th {\n",
       "        text-align: right;\n",
       "    }\n",
       "</style>\n",
       "<table border=\"1\" class=\"dataframe\">\n",
       "  <thead>\n",
       "    <tr style=\"text-align: right;\">\n",
       "      <th></th>\n",
       "      <th>STATION_ID</th>\n",
       "      <th>STATION</th>\n",
       "      <th>BEGIN_DATE</th>\n",
       "      <th>END_DATE</th>\n",
       "      <th>STATE</th>\n",
       "      <th>COUNTRY</th>\n",
       "      <th>LATITUDE</th>\n",
       "      <th>LONGITUDE</th>\n",
       "      <th>ELEVATION_(M)</th>\n",
       "    </tr>\n",
       "  </thead>\n",
       "  <tbody>\n",
       "    <tr>\n",
       "      <th>0</th>\n",
       "      <td>GHCND:USC00112931</td>\n",
       "      <td>1 ENE FAIRFIELD, IL US</td>\n",
       "      <td>1895-07-07</td>\n",
       "      <td>2024-12-17</td>\n",
       "      <td>Illinois</td>\n",
       "      <td>United States</td>\n",
       "      <td>38.39055</td>\n",
       "      <td>-88.35017</td>\n",
       "      <td>140.8</td>\n",
       "    </tr>\n",
       "    <tr>\n",
       "      <th>1</th>\n",
       "      <td>GHCND:USC00115515</td>\n",
       "      <td>1 N MCLEANSBORO, IL US</td>\n",
       "      <td>1893-01-01</td>\n",
       "      <td>2024-12-10</td>\n",
       "      <td>Illinois</td>\n",
       "      <td>United States</td>\n",
       "      <td>38.10062</td>\n",
       "      <td>-88.53300</td>\n",
       "      <td>150.0</td>\n",
       "    </tr>\n",
       "    <tr>\n",
       "      <th>2</th>\n",
       "      <td>GHCND:USC00127125</td>\n",
       "      <td>1 WSW PRINCETON, IN US</td>\n",
       "      <td>1893-01-01</td>\n",
       "      <td>2024-12-17</td>\n",
       "      <td>Indiana</td>\n",
       "      <td>United States</td>\n",
       "      <td>38.35178</td>\n",
       "      <td>-87.59257</td>\n",
       "      <td>137.2</td>\n",
       "    </tr>\n",
       "  </tbody>\n",
       "</table>\n",
       "</div>"
      ],
      "text/plain": [
       "          STATION_ID                 STATION  BEGIN_DATE    END_DATE  \\\n",
       "0  GHCND:USC00112931  1 ENE FAIRFIELD, IL US  1895-07-07  2024-12-17   \n",
       "1  GHCND:USC00115515  1 N MCLEANSBORO, IL US  1893-01-01  2024-12-10   \n",
       "2  GHCND:USC00127125  1 WSW PRINCETON, IN US  1893-01-01  2024-12-17   \n",
       "\n",
       "      STATE        COUNTRY  LATITUDE  LONGITUDE  ELEVATION_(M)  \n",
       "0  Illinois  United States  38.39055  -88.35017          140.8  \n",
       "1  Illinois  United States  38.10062  -88.53300          150.0  \n",
       "2   Indiana  United States  38.35178  -87.59257          137.2  "
      ]
     },
     "execution_count": 27,
     "metadata": {},
     "output_type": "execute_result"
    }
   ],
   "source": [
    "stations_df.head(3)"
   ]
  },
  {
   "cell_type": "code",
   "execution_count": 36,
   "metadata": {},
   "outputs": [
    {
     "data": {
      "text/html": [
       "<div>\n",
       "<style scoped>\n",
       "    .dataframe tbody tr th:only-of-type {\n",
       "        vertical-align: middle;\n",
       "    }\n",
       "\n",
       "    .dataframe tbody tr th {\n",
       "        vertical-align: top;\n",
       "    }\n",
       "\n",
       "    .dataframe thead th {\n",
       "        text-align: right;\n",
       "    }\n",
       "</style>\n",
       "<table border=\"1\" class=\"dataframe\">\n",
       "  <thead>\n",
       "    <tr style=\"text-align: right;\">\n",
       "      <th></th>\n",
       "      <th>STATION_ID</th>\n",
       "      <th>STATION</th>\n",
       "      <th>BEGIN_DATE</th>\n",
       "      <th>END_DATE</th>\n",
       "      <th>STATE</th>\n",
       "      <th>COUNTRY</th>\n",
       "      <th>LATITUDE</th>\n",
       "      <th>LONGITUDE</th>\n",
       "      <th>ELEVATION_(M)</th>\n",
       "    </tr>\n",
       "  </thead>\n",
       "  <tbody>\n",
       "    <tr>\n",
       "      <th>0</th>\n",
       "      <td>USC00112931</td>\n",
       "      <td>1 ENE FAIRFIELD, IL US</td>\n",
       "      <td>1895-07-07</td>\n",
       "      <td>2024-12-17</td>\n",
       "      <td>Illinois</td>\n",
       "      <td>United States</td>\n",
       "      <td>38.39055</td>\n",
       "      <td>-88.35017</td>\n",
       "      <td>140.8</td>\n",
       "    </tr>\n",
       "    <tr>\n",
       "      <th>1</th>\n",
       "      <td>USC00115515</td>\n",
       "      <td>1 N MCLEANSBORO, IL US</td>\n",
       "      <td>1893-01-01</td>\n",
       "      <td>2024-12-10</td>\n",
       "      <td>Illinois</td>\n",
       "      <td>United States</td>\n",
       "      <td>38.10062</td>\n",
       "      <td>-88.53300</td>\n",
       "      <td>150.0</td>\n",
       "    </tr>\n",
       "    <tr>\n",
       "      <th>2</th>\n",
       "      <td>USC00127125</td>\n",
       "      <td>1 WSW PRINCETON, IN US</td>\n",
       "      <td>1893-01-01</td>\n",
       "      <td>2024-12-17</td>\n",
       "      <td>Indiana</td>\n",
       "      <td>United States</td>\n",
       "      <td>38.35178</td>\n",
       "      <td>-87.59257</td>\n",
       "      <td>137.2</td>\n",
       "    </tr>\n",
       "    <tr>\n",
       "      <th>3</th>\n",
       "      <td>USC00510006</td>\n",
       "      <td>AAKUKUI 1007, HI US</td>\n",
       "      <td>1919-01-01</td>\n",
       "      <td>1963-05-01</td>\n",
       "      <td>Hawaii</td>\n",
       "      <td>United States</td>\n",
       "      <td>21.95000</td>\n",
       "      <td>-159.43333</td>\n",
       "      <td>107.0</td>\n",
       "    </tr>\n",
       "    <tr>\n",
       "      <th>4</th>\n",
       "      <td>USC00090006</td>\n",
       "      <td>ABBEVILLE RIVER, GA US</td>\n",
       "      <td>2009-07-01</td>\n",
       "      <td>2012-10-01</td>\n",
       "      <td>Georgia</td>\n",
       "      <td>United States</td>\n",
       "      <td>31.99380</td>\n",
       "      <td>-83.30900</td>\n",
       "      <td>74.1</td>\n",
       "    </tr>\n",
       "  </tbody>\n",
       "</table>\n",
       "</div>"
      ],
      "text/plain": [
       "    STATION_ID                 STATION  BEGIN_DATE    END_DATE     STATE  \\\n",
       "0  USC00112931  1 ENE FAIRFIELD, IL US  1895-07-07  2024-12-17  Illinois   \n",
       "1  USC00115515  1 N MCLEANSBORO, IL US  1893-01-01  2024-12-10  Illinois   \n",
       "2  USC00127125  1 WSW PRINCETON, IN US  1893-01-01  2024-12-17   Indiana   \n",
       "3  USC00510006     AAKUKUI 1007, HI US  1919-01-01  1963-05-01    Hawaii   \n",
       "4  USC00090006  ABBEVILLE RIVER, GA US  2009-07-01  2012-10-01   Georgia   \n",
       "\n",
       "         COUNTRY  LATITUDE  LONGITUDE  ELEVATION_(M)  \n",
       "0  United States  38.39055  -88.35017          140.8  \n",
       "1  United States  38.10062  -88.53300          150.0  \n",
       "2  United States  38.35178  -87.59257          137.2  \n",
       "3  United States  21.95000 -159.43333          107.0  \n",
       "4  United States  31.99380  -83.30900           74.1  "
      ]
     },
     "execution_count": 36,
     "metadata": {},
     "output_type": "execute_result"
    }
   ],
   "source": [
    "stations_df['STATION_ID'] = stations_df['STATION_ID'].str.replace('GHCND:', '')\n",
    "stations_df.head()"
   ]
  },
  {
   "cell_type": "code",
   "execution_count": 37,
   "metadata": {},
   "outputs": [
    {
     "data": {
      "text/html": [
       "<div>\n",
       "<style scoped>\n",
       "    .dataframe tbody tr th:only-of-type {\n",
       "        vertical-align: middle;\n",
       "    }\n",
       "\n",
       "    .dataframe tbody tr th {\n",
       "        vertical-align: top;\n",
       "    }\n",
       "\n",
       "    .dataframe thead th {\n",
       "        text-align: right;\n",
       "    }\n",
       "</style>\n",
       "<table border=\"1\" class=\"dataframe\">\n",
       "  <thead>\n",
       "    <tr style=\"text-align: right;\">\n",
       "      <th></th>\n",
       "      <th>STATION</th>\n",
       "      <th>DATE</th>\n",
       "      <th>PRCP</th>\n",
       "      <th>TAVG</th>\n",
       "      <th>TMAX</th>\n",
       "      <th>STATE</th>\n",
       "    </tr>\n",
       "  </thead>\n",
       "  <tbody>\n",
       "    <tr>\n",
       "      <th>0</th>\n",
       "      <td>USC00340184</td>\n",
       "      <td>2017-01-01</td>\n",
       "      <td>0.00</td>\n",
       "      <td>NaN</td>\n",
       "      <td>56.0</td>\n",
       "      <td>Oklahoma</td>\n",
       "    </tr>\n",
       "    <tr>\n",
       "      <th>1</th>\n",
       "      <td>USC00340184</td>\n",
       "      <td>2017-01-02</td>\n",
       "      <td>0.05</td>\n",
       "      <td>NaN</td>\n",
       "      <td>66.0</td>\n",
       "      <td>Oklahoma</td>\n",
       "    </tr>\n",
       "    <tr>\n",
       "      <th>2</th>\n",
       "      <td>USC00340184</td>\n",
       "      <td>2017-01-03</td>\n",
       "      <td>0.00</td>\n",
       "      <td>NaN</td>\n",
       "      <td>65.0</td>\n",
       "      <td>Oklahoma</td>\n",
       "    </tr>\n",
       "  </tbody>\n",
       "</table>\n",
       "</div>"
      ],
      "text/plain": [
       "       STATION        DATE  PRCP  TAVG  TMAX     STATE\n",
       "0  USC00340184  2017-01-01  0.00   NaN  56.0  Oklahoma\n",
       "1  USC00340184  2017-01-02  0.05   NaN  66.0  Oklahoma\n",
       "2  USC00340184  2017-01-03  0.00   NaN  65.0  Oklahoma"
      ]
     },
     "execution_count": 37,
     "metadata": {},
     "output_type": "execute_result"
    }
   ],
   "source": [
    "# Merge ghcn_df with stations_df to add the state column\n",
    "ghcn_df = ghcn_df.merge(stations_df[['STATION_ID', 'STATE']], left_on='STATION', right_on='STATION_ID', how='left')\n",
    "\n",
    "# Drop the STATION_ID column as it is no longer needed\n",
    "ghcn_df.drop(columns=['STATION_ID'], inplace=True)\n",
    "ghcn_df.drop(columns=['NAME'], inplace=True)\n",
    "\n",
    "# Display the first few rows to verify the merge\n",
    "ghcn_df.head(3)"
   ]
  },
  {
   "cell_type": "code",
   "execution_count": 39,
   "metadata": {},
   "outputs": [
    {
     "data": {
      "text/plain": [
       "PRCP       2135\n",
       "TAVG     120413\n",
       "TMAX      28657\n",
       "STATE         0\n",
       "dtype: int64"
      ]
     },
     "execution_count": 39,
     "metadata": {},
     "output_type": "execute_result"
    }
   ],
   "source": [
    "ghcn_df[['PRCP', 'TAVG', 'TMAX', 'STATE']].isna().sum()"
   ]
  },
  {
   "cell_type": "code",
   "execution_count": 40,
   "metadata": {},
   "outputs": [],
   "source": [
    "ghcn_df = ghcn_df.dropna(subset=['TMAX'])"
   ]
  },
  {
   "cell_type": "code",
   "execution_count": 41,
   "metadata": {},
   "outputs": [
    {
     "data": {
      "text/html": [
       "<div>\n",
       "<style scoped>\n",
       "    .dataframe tbody tr th:only-of-type {\n",
       "        vertical-align: middle;\n",
       "    }\n",
       "\n",
       "    .dataframe tbody tr th {\n",
       "        vertical-align: top;\n",
       "    }\n",
       "\n",
       "    .dataframe thead th {\n",
       "        text-align: right;\n",
       "    }\n",
       "</style>\n",
       "<table border=\"1\" class=\"dataframe\">\n",
       "  <thead>\n",
       "    <tr style=\"text-align: right;\">\n",
       "      <th></th>\n",
       "      <th>STATION</th>\n",
       "      <th>DATE</th>\n",
       "      <th>PRCP</th>\n",
       "      <th>TAVG</th>\n",
       "      <th>TMAX</th>\n",
       "      <th>STATE</th>\n",
       "    </tr>\n",
       "  </thead>\n",
       "  <tbody>\n",
       "    <tr>\n",
       "      <th>0</th>\n",
       "      <td>USC00340184</td>\n",
       "      <td>2017-01-01</td>\n",
       "      <td>0.00</td>\n",
       "      <td>NaN</td>\n",
       "      <td>56.0</td>\n",
       "      <td>Oklahoma</td>\n",
       "    </tr>\n",
       "    <tr>\n",
       "      <th>1</th>\n",
       "      <td>USC00340184</td>\n",
       "      <td>2017-01-02</td>\n",
       "      <td>0.05</td>\n",
       "      <td>NaN</td>\n",
       "      <td>66.0</td>\n",
       "      <td>Oklahoma</td>\n",
       "    </tr>\n",
       "    <tr>\n",
       "      <th>2</th>\n",
       "      <td>USC00340184</td>\n",
       "      <td>2017-01-03</td>\n",
       "      <td>0.00</td>\n",
       "      <td>NaN</td>\n",
       "      <td>65.0</td>\n",
       "      <td>Oklahoma</td>\n",
       "    </tr>\n",
       "    <tr>\n",
       "      <th>3</th>\n",
       "      <td>USC00340184</td>\n",
       "      <td>2017-01-04</td>\n",
       "      <td>0.00</td>\n",
       "      <td>NaN</td>\n",
       "      <td>44.0</td>\n",
       "      <td>Oklahoma</td>\n",
       "    </tr>\n",
       "    <tr>\n",
       "      <th>4</th>\n",
       "      <td>USC00340184</td>\n",
       "      <td>2017-01-05</td>\n",
       "      <td>0.00</td>\n",
       "      <td>NaN</td>\n",
       "      <td>42.0</td>\n",
       "      <td>Oklahoma</td>\n",
       "    </tr>\n",
       "  </tbody>\n",
       "</table>\n",
       "</div>"
      ],
      "text/plain": [
       "       STATION        DATE  PRCP  TAVG  TMAX     STATE\n",
       "0  USC00340184  2017-01-01  0.00   NaN  56.0  Oklahoma\n",
       "1  USC00340184  2017-01-02  0.05   NaN  66.0  Oklahoma\n",
       "2  USC00340184  2017-01-03  0.00   NaN  65.0  Oklahoma\n",
       "3  USC00340184  2017-01-04  0.00   NaN  44.0  Oklahoma\n",
       "4  USC00340184  2017-01-05  0.00   NaN  42.0  Oklahoma"
      ]
     },
     "execution_count": 41,
     "metadata": {},
     "output_type": "execute_result"
    }
   ],
   "source": [
    "ghcn_df.head()"
   ]
  },
  {
   "cell_type": "code",
   "execution_count": null,
   "metadata": {},
   "outputs": [
    {
     "data": {
      "text/plain": [
       "(16374, 3)"
      ]
     },
     "execution_count": 68,
     "metadata": {},
     "output_type": "execute_result"
    }
   ],
   "source": [
    "grouped_ghcn_df = ghcn_df.groupby(['STATE', 'DATE']).agg({'TMAX': 'median'}).reset_index()\n",
    "grouped_ghcn_df.rename(columns={'TMAX': 'MEDIAN_TMAX'}, inplace=True)\n",
    "grouped_ghcn_df.shape"
   ]
  },
  {
   "cell_type": "code",
   "execution_count": 69,
   "metadata": {},
   "outputs": [
    {
     "data": {
      "text/html": [
       "<div>\n",
       "<style scoped>\n",
       "    .dataframe tbody tr th:only-of-type {\n",
       "        vertical-align: middle;\n",
       "    }\n",
       "\n",
       "    .dataframe tbody tr th {\n",
       "        vertical-align: top;\n",
       "    }\n",
       "\n",
       "    .dataframe thead th {\n",
       "        text-align: right;\n",
       "    }\n",
       "</style>\n",
       "<table border=\"1\" class=\"dataframe\">\n",
       "  <thead>\n",
       "    <tr style=\"text-align: right;\">\n",
       "      <th></th>\n",
       "      <th>STATE</th>\n",
       "      <th>DATE</th>\n",
       "      <th>MEDIAN_TMAX</th>\n",
       "    </tr>\n",
       "  </thead>\n",
       "  <tbody>\n",
       "    <tr>\n",
       "      <th>0</th>\n",
       "      <td>Alabama</td>\n",
       "      <td>2017-01-01</td>\n",
       "      <td>63.0</td>\n",
       "    </tr>\n",
       "    <tr>\n",
       "      <th>1</th>\n",
       "      <td>Alabama</td>\n",
       "      <td>2017-01-02</td>\n",
       "      <td>64.0</td>\n",
       "    </tr>\n",
       "    <tr>\n",
       "      <th>2</th>\n",
       "      <td>Alabama</td>\n",
       "      <td>2017-01-03</td>\n",
       "      <td>64.5</td>\n",
       "    </tr>\n",
       "    <tr>\n",
       "      <th>3</th>\n",
       "      <td>Alabama</td>\n",
       "      <td>2017-01-04</td>\n",
       "      <td>57.5</td>\n",
       "    </tr>\n",
       "  </tbody>\n",
       "</table>\n",
       "</div>"
      ],
      "text/plain": [
       "     STATE        DATE  MEDIAN_TMAX\n",
       "0  Alabama  2017-01-01         63.0\n",
       "1  Alabama  2017-01-02         64.0\n",
       "2  Alabama  2017-01-03         64.5\n",
       "3  Alabama  2017-01-04         57.5"
      ]
     },
     "execution_count": 69,
     "metadata": {},
     "output_type": "execute_result"
    }
   ],
   "source": [
    "grouped_ghcn_df.head(4)"
   ]
  },
  {
   "cell_type": "code",
   "execution_count": 52,
   "metadata": {},
   "outputs": [
    {
     "data": {
      "text/plain": [
       "array(['Alabama', 'Alaska', 'Arizona', 'Arkansas', 'California',\n",
       "       'Colorado', 'Connecticut', 'Florida', 'Georgia', 'Idaho',\n",
       "       'Illinois', 'Indiana', 'Iowa', 'Kansas', 'Kentucky', 'Louisiana',\n",
       "       'Maine', 'Maryland', 'Massachusetts', 'Michigan', 'Minnesota',\n",
       "       'Mississippi', 'Missouri', 'Montana', 'Nebraska', 'Nevada',\n",
       "       'New Jersey', 'New Mexico', 'New York', 'North Carolina',\n",
       "       'North Dakota', 'Ohio', 'Oklahoma', 'Oregon', 'Pennsylvania',\n",
       "       'South Carolina', 'South Dakota', 'Tennessee', 'Texas', 'Utah',\n",
       "       'Virginia', 'Washington', 'West Virginia', 'Wisconsin', 'Wyoming'],\n",
       "      dtype=object)"
      ]
     },
     "execution_count": 52,
     "metadata": {},
     "output_type": "execute_result"
    }
   ],
   "source": [
    "grouped_ghcn_df['STATE'].unique()"
   ]
  },
  {
   "cell_type": "code",
   "execution_count": 70,
   "metadata": {},
   "outputs": [
    {
     "data": {
      "text/html": [
       "<div>\n",
       "<style scoped>\n",
       "    .dataframe tbody tr th:only-of-type {\n",
       "        vertical-align: middle;\n",
       "    }\n",
       "\n",
       "    .dataframe tbody tr th {\n",
       "        vertical-align: top;\n",
       "    }\n",
       "\n",
       "    .dataframe thead th {\n",
       "        text-align: right;\n",
       "    }\n",
       "</style>\n",
       "<table border=\"1\" class=\"dataframe\">\n",
       "  <thead>\n",
       "    <tr style=\"text-align: right;\">\n",
       "      <th></th>\n",
       "      <th>STATE</th>\n",
       "      <th>DATE</th>\n",
       "      <th>MEDIAN_TMAX</th>\n",
       "    </tr>\n",
       "  </thead>\n",
       "  <tbody>\n",
       "    <tr>\n",
       "      <th>16009</th>\n",
       "      <td>Wyoming</td>\n",
       "      <td>2017-01-01</td>\n",
       "      <td>29.0</td>\n",
       "    </tr>\n",
       "    <tr>\n",
       "      <th>16010</th>\n",
       "      <td>Wyoming</td>\n",
       "      <td>2017-01-02</td>\n",
       "      <td>23.0</td>\n",
       "    </tr>\n",
       "    <tr>\n",
       "      <th>16011</th>\n",
       "      <td>Wyoming</td>\n",
       "      <td>2017-01-03</td>\n",
       "      <td>17.0</td>\n",
       "    </tr>\n",
       "    <tr>\n",
       "      <th>16012</th>\n",
       "      <td>Wyoming</td>\n",
       "      <td>2017-01-04</td>\n",
       "      <td>16.0</td>\n",
       "    </tr>\n",
       "    <tr>\n",
       "      <th>16013</th>\n",
       "      <td>Wyoming</td>\n",
       "      <td>2017-01-05</td>\n",
       "      <td>10.0</td>\n",
       "    </tr>\n",
       "    <tr>\n",
       "      <th>...</th>\n",
       "      <td>...</td>\n",
       "      <td>...</td>\n",
       "      <td>...</td>\n",
       "    </tr>\n",
       "    <tr>\n",
       "      <th>16369</th>\n",
       "      <td>Wyoming</td>\n",
       "      <td>2017-12-27</td>\n",
       "      <td>29.0</td>\n",
       "    </tr>\n",
       "    <tr>\n",
       "      <th>16370</th>\n",
       "      <td>Wyoming</td>\n",
       "      <td>2017-12-28</td>\n",
       "      <td>34.0</td>\n",
       "    </tr>\n",
       "    <tr>\n",
       "      <th>16371</th>\n",
       "      <td>Wyoming</td>\n",
       "      <td>2017-12-29</td>\n",
       "      <td>38.0</td>\n",
       "    </tr>\n",
       "    <tr>\n",
       "      <th>16372</th>\n",
       "      <td>Wyoming</td>\n",
       "      <td>2017-12-30</td>\n",
       "      <td>42.0</td>\n",
       "    </tr>\n",
       "    <tr>\n",
       "      <th>16373</th>\n",
       "      <td>Wyoming</td>\n",
       "      <td>2017-12-31</td>\n",
       "      <td>38.0</td>\n",
       "    </tr>\n",
       "  </tbody>\n",
       "</table>\n",
       "<p>365 rows × 3 columns</p>\n",
       "</div>"
      ],
      "text/plain": [
       "         STATE        DATE  MEDIAN_TMAX\n",
       "16009  Wyoming  2017-01-01         29.0\n",
       "16010  Wyoming  2017-01-02         23.0\n",
       "16011  Wyoming  2017-01-03         17.0\n",
       "16012  Wyoming  2017-01-04         16.0\n",
       "16013  Wyoming  2017-01-05         10.0\n",
       "...        ...         ...          ...\n",
       "16369  Wyoming  2017-12-27         29.0\n",
       "16370  Wyoming  2017-12-28         34.0\n",
       "16371  Wyoming  2017-12-29         38.0\n",
       "16372  Wyoming  2017-12-30         42.0\n",
       "16373  Wyoming  2017-12-31         38.0\n",
       "\n",
       "[365 rows x 3 columns]"
      ]
     },
     "execution_count": 70,
     "metadata": {},
     "output_type": "execute_result"
    }
   ],
   "source": [
    "grouped_ghcn_df[grouped_ghcn_df['STATE'] == 'Wyoming']"
   ]
  },
  {
   "cell_type": "code",
   "execution_count": 84,
   "metadata": {},
   "outputs": [
    {
     "data": {
      "text/html": [
       "<div>\n",
       "<style scoped>\n",
       "    .dataframe tbody tr th:only-of-type {\n",
       "        vertical-align: middle;\n",
       "    }\n",
       "\n",
       "    .dataframe tbody tr th {\n",
       "        vertical-align: top;\n",
       "    }\n",
       "\n",
       "    .dataframe thead th {\n",
       "        text-align: right;\n",
       "    }\n",
       "</style>\n",
       "<table border=\"1\" class=\"dataframe\">\n",
       "  <thead>\n",
       "    <tr style=\"text-align: right;\">\n",
       "      <th></th>\n",
       "      <th>Unnamed: 0</th>\n",
       "      <th>rating</th>\n",
       "      <th>appearance</th>\n",
       "      <th>aroma</th>\n",
       "      <th>palate</th>\n",
       "      <th>taste</th>\n",
       "      <th>overall</th>\n",
       "      <th>country_name</th>\n",
       "      <th>country_code3</th>\n",
       "      <th>state</th>\n",
       "      <th>date_object</th>\n",
       "      <th>month</th>\n",
       "      <th>year</th>\n",
       "      <th>style</th>\n",
       "      <th>beer_name</th>\n",
       "      <th>beer_id</th>\n",
       "    </tr>\n",
       "  </thead>\n",
       "  <tbody>\n",
       "    <tr>\n",
       "      <th>0</th>\n",
       "      <td>0</td>\n",
       "      <td>2.88</td>\n",
       "      <td>3.25</td>\n",
       "      <td>2.75</td>\n",
       "      <td>3.25</td>\n",
       "      <td>2.75</td>\n",
       "      <td>3.00</td>\n",
       "      <td>United States</td>\n",
       "      <td>USA</td>\n",
       "      <td>Washington</td>\n",
       "      <td>2015-08-20 12:00:00</td>\n",
       "      <td>8</td>\n",
       "      <td>2015</td>\n",
       "      <td>Euro Pale Lager</td>\n",
       "      <td>Régab</td>\n",
       "      <td>142544</td>\n",
       "    </tr>\n",
       "    <tr>\n",
       "      <th>1</th>\n",
       "      <td>1</td>\n",
       "      <td>3.67</td>\n",
       "      <td>3.00</td>\n",
       "      <td>3.50</td>\n",
       "      <td>3.50</td>\n",
       "      <td>4.00</td>\n",
       "      <td>3.50</td>\n",
       "      <td>United States</td>\n",
       "      <td>USA</td>\n",
       "      <td>New York</td>\n",
       "      <td>2009-02-20 12:00:00</td>\n",
       "      <td>2</td>\n",
       "      <td>2009</td>\n",
       "      <td>English Pale Ale</td>\n",
       "      <td>Barelegs Brew</td>\n",
       "      <td>19590</td>\n",
       "    </tr>\n",
       "    <tr>\n",
       "      <th>2</th>\n",
       "      <td>5</td>\n",
       "      <td>3.91</td>\n",
       "      <td>4.25</td>\n",
       "      <td>4.50</td>\n",
       "      <td>3.25</td>\n",
       "      <td>3.75</td>\n",
       "      <td>3.75</td>\n",
       "      <td>United States</td>\n",
       "      <td>USA</td>\n",
       "      <td>North Carolina</td>\n",
       "      <td>2013-02-13 12:00:00</td>\n",
       "      <td>2</td>\n",
       "      <td>2013</td>\n",
       "      <td>English Pale Ale</td>\n",
       "      <td>Legbiter</td>\n",
       "      <td>19827</td>\n",
       "    </tr>\n",
       "    <tr>\n",
       "      <th>3</th>\n",
       "      <td>6</td>\n",
       "      <td>3.64</td>\n",
       "      <td>4.00</td>\n",
       "      <td>3.75</td>\n",
       "      <td>3.50</td>\n",
       "      <td>3.50</td>\n",
       "      <td>3.75</td>\n",
       "      <td>United States</td>\n",
       "      <td>USA</td>\n",
       "      <td>New York</td>\n",
       "      <td>2013-01-09 12:00:00</td>\n",
       "      <td>1</td>\n",
       "      <td>2013</td>\n",
       "      <td>English Pale Ale</td>\n",
       "      <td>Legbiter</td>\n",
       "      <td>19827</td>\n",
       "    </tr>\n",
       "    <tr>\n",
       "      <th>4</th>\n",
       "      <td>7</td>\n",
       "      <td>2.77</td>\n",
       "      <td>3.00</td>\n",
       "      <td>3.50</td>\n",
       "      <td>2.50</td>\n",
       "      <td>2.50</td>\n",
       "      <td>2.50</td>\n",
       "      <td>United States</td>\n",
       "      <td>USA</td>\n",
       "      <td>Illinois</td>\n",
       "      <td>2012-11-17 12:00:00</td>\n",
       "      <td>11</td>\n",
       "      <td>2012</td>\n",
       "      <td>English Pale Ale</td>\n",
       "      <td>Legbiter</td>\n",
       "      <td>19827</td>\n",
       "    </tr>\n",
       "  </tbody>\n",
       "</table>\n",
       "</div>"
      ],
      "text/plain": [
       "   Unnamed: 0  rating  appearance  aroma  palate  taste  overall  \\\n",
       "0           0    2.88        3.25   2.75    3.25   2.75     3.00   \n",
       "1           1    3.67        3.00   3.50    3.50   4.00     3.50   \n",
       "2           5    3.91        4.25   4.50    3.25   3.75     3.75   \n",
       "3           6    3.64        4.00   3.75    3.50   3.50     3.75   \n",
       "4           7    2.77        3.00   3.50    2.50   2.50     2.50   \n",
       "\n",
       "    country_name country_code3           state          date_object  month  \\\n",
       "0  United States           USA      Washington  2015-08-20 12:00:00      8   \n",
       "1  United States           USA        New York  2009-02-20 12:00:00      2   \n",
       "2  United States           USA  North Carolina  2013-02-13 12:00:00      2   \n",
       "3  United States           USA        New York  2013-01-09 12:00:00      1   \n",
       "4  United States           USA        Illinois  2012-11-17 12:00:00     11   \n",
       "\n",
       "   year             style      beer_name  beer_id  \n",
       "0  2015   Euro Pale Lager          Régab   142544  \n",
       "1  2009  English Pale Ale  Barelegs Brew    19590  \n",
       "2  2013  English Pale Ale       Legbiter    19827  \n",
       "3  2013  English Pale Ale       Legbiter    19827  \n",
       "4  2012  English Pale Ale       Legbiter    19827  "
      ]
     },
     "execution_count": 84,
     "metadata": {},
     "output_type": "execute_result"
    }
   ],
   "source": [
    "# beer_df['date_object']\n",
    "beer_df.head(5)"
   ]
  },
  {
   "cell_type": "code",
   "execution_count": 83,
   "metadata": {},
   "outputs": [
    {
     "data": {
      "text/plain": [
       "50"
      ]
     },
     "execution_count": 83,
     "metadata": {},
     "output_type": "execute_result"
    }
   ],
   "source": [
    "beer_df['state'].unique().size"
   ]
  },
  {
   "cell_type": "code",
   "execution_count": 85,
   "metadata": {
    "vscode": {
     "languageId": "javascript"
    }
   },
   "outputs": [
    {
     "data": {
      "text/html": [
       "<div>\n",
       "<style scoped>\n",
       "    .dataframe tbody tr th:only-of-type {\n",
       "        vertical-align: middle;\n",
       "    }\n",
       "\n",
       "    .dataframe tbody tr th {\n",
       "        vertical-align: top;\n",
       "    }\n",
       "\n",
       "    .dataframe thead th {\n",
       "        text-align: right;\n",
       "    }\n",
       "</style>\n",
       "<table border=\"1\" class=\"dataframe\">\n",
       "  <thead>\n",
       "    <tr style=\"text-align: right;\">\n",
       "      <th></th>\n",
       "      <th>Unnamed: 0</th>\n",
       "      <th>rating</th>\n",
       "      <th>appearance</th>\n",
       "      <th>aroma</th>\n",
       "      <th>palate</th>\n",
       "      <th>taste</th>\n",
       "      <th>overall</th>\n",
       "      <th>country_name</th>\n",
       "      <th>country_code3</th>\n",
       "      <th>state</th>\n",
       "      <th>date_object</th>\n",
       "      <th>month</th>\n",
       "      <th>year</th>\n",
       "      <th>style</th>\n",
       "      <th>beer_name</th>\n",
       "      <th>beer_id</th>\n",
       "    </tr>\n",
       "  </thead>\n",
       "  <tbody>\n",
       "    <tr>\n",
       "      <th>0</th>\n",
       "      <td>0</td>\n",
       "      <td>2.88</td>\n",
       "      <td>3.25</td>\n",
       "      <td>2.75</td>\n",
       "      <td>3.25</td>\n",
       "      <td>2.75</td>\n",
       "      <td>3.00</td>\n",
       "      <td>United States</td>\n",
       "      <td>USA</td>\n",
       "      <td>Washington</td>\n",
       "      <td>2015-08-20</td>\n",
       "      <td>8</td>\n",
       "      <td>2015</td>\n",
       "      <td>Euro Pale Lager</td>\n",
       "      <td>Régab</td>\n",
       "      <td>142544</td>\n",
       "    </tr>\n",
       "    <tr>\n",
       "      <th>1</th>\n",
       "      <td>1</td>\n",
       "      <td>3.67</td>\n",
       "      <td>3.00</td>\n",
       "      <td>3.50</td>\n",
       "      <td>3.50</td>\n",
       "      <td>4.00</td>\n",
       "      <td>3.50</td>\n",
       "      <td>United States</td>\n",
       "      <td>USA</td>\n",
       "      <td>New York</td>\n",
       "      <td>2009-02-20</td>\n",
       "      <td>2</td>\n",
       "      <td>2009</td>\n",
       "      <td>English Pale Ale</td>\n",
       "      <td>Barelegs Brew</td>\n",
       "      <td>19590</td>\n",
       "    </tr>\n",
       "    <tr>\n",
       "      <th>2</th>\n",
       "      <td>5</td>\n",
       "      <td>3.91</td>\n",
       "      <td>4.25</td>\n",
       "      <td>4.50</td>\n",
       "      <td>3.25</td>\n",
       "      <td>3.75</td>\n",
       "      <td>3.75</td>\n",
       "      <td>United States</td>\n",
       "      <td>USA</td>\n",
       "      <td>North Carolina</td>\n",
       "      <td>2013-02-13</td>\n",
       "      <td>2</td>\n",
       "      <td>2013</td>\n",
       "      <td>English Pale Ale</td>\n",
       "      <td>Legbiter</td>\n",
       "      <td>19827</td>\n",
       "    </tr>\n",
       "    <tr>\n",
       "      <th>3</th>\n",
       "      <td>6</td>\n",
       "      <td>3.64</td>\n",
       "      <td>4.00</td>\n",
       "      <td>3.75</td>\n",
       "      <td>3.50</td>\n",
       "      <td>3.50</td>\n",
       "      <td>3.75</td>\n",
       "      <td>United States</td>\n",
       "      <td>USA</td>\n",
       "      <td>New York</td>\n",
       "      <td>2013-01-09</td>\n",
       "      <td>1</td>\n",
       "      <td>2013</td>\n",
       "      <td>English Pale Ale</td>\n",
       "      <td>Legbiter</td>\n",
       "      <td>19827</td>\n",
       "    </tr>\n",
       "    <tr>\n",
       "      <th>4</th>\n",
       "      <td>7</td>\n",
       "      <td>2.77</td>\n",
       "      <td>3.00</td>\n",
       "      <td>3.50</td>\n",
       "      <td>2.50</td>\n",
       "      <td>2.50</td>\n",
       "      <td>2.50</td>\n",
       "      <td>United States</td>\n",
       "      <td>USA</td>\n",
       "      <td>Illinois</td>\n",
       "      <td>2012-11-17</td>\n",
       "      <td>11</td>\n",
       "      <td>2012</td>\n",
       "      <td>English Pale Ale</td>\n",
       "      <td>Legbiter</td>\n",
       "      <td>19827</td>\n",
       "    </tr>\n",
       "  </tbody>\n",
       "</table>\n",
       "</div>"
      ],
      "text/plain": [
       "   Unnamed: 0  rating  appearance  aroma  palate  taste  overall  \\\n",
       "0           0    2.88        3.25   2.75    3.25   2.75     3.00   \n",
       "1           1    3.67        3.00   3.50    3.50   4.00     3.50   \n",
       "2           5    3.91        4.25   4.50    3.25   3.75     3.75   \n",
       "3           6    3.64        4.00   3.75    3.50   3.50     3.75   \n",
       "4           7    2.77        3.00   3.50    2.50   2.50     2.50   \n",
       "\n",
       "    country_name country_code3           state date_object  month  year  \\\n",
       "0  United States           USA      Washington  2015-08-20      8  2015   \n",
       "1  United States           USA        New York  2009-02-20      2  2009   \n",
       "2  United States           USA  North Carolina  2013-02-13      2  2013   \n",
       "3  United States           USA        New York  2013-01-09      1  2013   \n",
       "4  United States           USA        Illinois  2012-11-17     11  2012   \n",
       "\n",
       "              style      beer_name  beer_id  \n",
       "0   Euro Pale Lager          Régab   142544  \n",
       "1  English Pale Ale  Barelegs Brew    19590  \n",
       "2  English Pale Ale       Legbiter    19827  \n",
       "3  English Pale Ale       Legbiter    19827  \n",
       "4  English Pale Ale       Legbiter    19827  "
      ]
     },
     "execution_count": 85,
     "metadata": {},
     "output_type": "execute_result"
    }
   ],
   "source": [
    "beer_df['date_object'] = beer_df['date_object'].str.split(' ').str[0]\n",
    "beer_df.head(5)"
   ]
  },
  {
   "cell_type": "code",
   "execution_count": 91,
   "metadata": {
    "vscode": {
     "languageId": "javascript"
    }
   },
   "outputs": [
    {
     "data": {
      "text/plain": [
       "(8566, 4)"
      ]
     },
     "execution_count": 91,
     "metadata": {},
     "output_type": "execute_result"
    }
   ],
   "source": [
    "grouped_beer_df = beer_df[beer_df['year'] == 2017].groupby(['state', 'date_object']).agg({'rating': 'mean'}).reset_index()\n",
    "group_sizes = beer_df[beer_df['year'] == 2017].groupby(['state', 'date_object']).size().reset_index(name='count')\n",
    "grouped_beer_df = grouped_beer_df.merge(group_sizes, on=['state', 'date_object'])\n",
    "grouped_beer_df.shape"
   ]
  },
  {
   "cell_type": "code",
   "execution_count": 92,
   "metadata": {
    "vscode": {
     "languageId": "javascript"
    }
   },
   "outputs": [
    {
     "data": {
      "text/html": [
       "<div>\n",
       "<style scoped>\n",
       "    .dataframe tbody tr th:only-of-type {\n",
       "        vertical-align: middle;\n",
       "    }\n",
       "\n",
       "    .dataframe tbody tr th {\n",
       "        vertical-align: top;\n",
       "    }\n",
       "\n",
       "    .dataframe thead th {\n",
       "        text-align: right;\n",
       "    }\n",
       "</style>\n",
       "<table border=\"1\" class=\"dataframe\">\n",
       "  <thead>\n",
       "    <tr style=\"text-align: right;\">\n",
       "      <th></th>\n",
       "      <th>state</th>\n",
       "      <th>date_object</th>\n",
       "      <th>rating</th>\n",
       "      <th>count</th>\n",
       "    </tr>\n",
       "  </thead>\n",
       "  <tbody>\n",
       "    <tr>\n",
       "      <th>0</th>\n",
       "      <td>Alabama</td>\n",
       "      <td>2017-01-01</td>\n",
       "      <td>4.0600</td>\n",
       "      <td>5</td>\n",
       "    </tr>\n",
       "    <tr>\n",
       "      <th>1</th>\n",
       "      <td>Alabama</td>\n",
       "      <td>2017-01-02</td>\n",
       "      <td>4.3025</td>\n",
       "      <td>4</td>\n",
       "    </tr>\n",
       "    <tr>\n",
       "      <th>2</th>\n",
       "      <td>Alabama</td>\n",
       "      <td>2017-01-04</td>\n",
       "      <td>3.7350</td>\n",
       "      <td>2</td>\n",
       "    </tr>\n",
       "    <tr>\n",
       "      <th>3</th>\n",
       "      <td>Alabama</td>\n",
       "      <td>2017-01-05</td>\n",
       "      <td>3.6600</td>\n",
       "      <td>1</td>\n",
       "    </tr>\n",
       "  </tbody>\n",
       "</table>\n",
       "</div>"
      ],
      "text/plain": [
       "     state date_object  rating  count\n",
       "0  Alabama  2017-01-01  4.0600      5\n",
       "1  Alabama  2017-01-02  4.3025      4\n",
       "2  Alabama  2017-01-04  3.7350      2\n",
       "3  Alabama  2017-01-05  3.6600      1"
      ]
     },
     "execution_count": 92,
     "metadata": {},
     "output_type": "execute_result"
    }
   ],
   "source": [
    "grouped_beer_df.head(4)"
   ]
  },
  {
   "cell_type": "code",
   "execution_count": 101,
   "metadata": {},
   "outputs": [
    {
     "data": {
      "image/png": "[encoded data removed]",
      "text/plain": [
       "<Figure size 600x200 with 1 Axes>"
      ]
     },
     "metadata": {},
     "output_type": "display_data"
    }
   ],
   "source": [
    "import matplotlib.pyplot as plt\n",
    "\n",
    "plt.figure(figsize=(6, 2))\n",
    "plt.xlim(0, 100)\n",
    "grouped_beer_df['count'].hist(bins=100)\n",
    "plt.show()"
   ]
  },
  {
   "cell_type": "code",
   "execution_count": 102,
   "metadata": {},
   "outputs": [
    {
     "data": {
      "text/plain": [
       "(7774, 7)"
      ]
     },
     "execution_count": 102,
     "metadata": {},
     "output_type": "execute_result"
    }
   ],
   "source": [
    "merged_df = pd.merge(grouped_beer_df, grouped_ghcn_df, left_on=['state', 'date_object'], right_on=['STATE', 'DATE'])\n",
    "merged_df.shape"
   ]
  },
  {
   "cell_type": "code",
   "execution_count": 121,
   "metadata": {},
   "outputs": [
    {
     "data": {
      "text/html": [
       "<div>\n",
       "<style scoped>\n",
       "    .dataframe tbody tr th:only-of-type {\n",
       "        vertical-align: middle;\n",
       "    }\n",
       "\n",
       "    .dataframe tbody tr th {\n",
       "        vertical-align: top;\n",
       "    }\n",
       "\n",
       "    .dataframe thead th {\n",
       "        text-align: right;\n",
       "    }\n",
       "</style>\n",
       "<table border=\"1\" class=\"dataframe\">\n",
       "  <thead>\n",
       "    <tr style=\"text-align: right;\">\n",
       "      <th></th>\n",
       "      <th>state</th>\n",
       "      <th>date_object</th>\n",
       "      <th>rating</th>\n",
       "      <th>count</th>\n",
       "      <th>STATE</th>\n",
       "      <th>DATE</th>\n",
       "      <th>MEDIAN_TMAX</th>\n",
       "    </tr>\n",
       "  </thead>\n",
       "  <tbody>\n",
       "    <tr>\n",
       "      <th>5350</th>\n",
       "      <td>North Dakota</td>\n",
       "      <td>2017-02-10</td>\n",
       "      <td>4.558333</td>\n",
       "      <td>6</td>\n",
       "      <td>North Dakota</td>\n",
       "      <td>2017-02-10</td>\n",
       "      <td>27.0</td>\n",
       "    </tr>\n",
       "    <tr>\n",
       "      <th>5351</th>\n",
       "      <td>North Dakota</td>\n",
       "      <td>2017-02-20</td>\n",
       "      <td>3.850000</td>\n",
       "      <td>1</td>\n",
       "      <td>North Dakota</td>\n",
       "      <td>2017-02-20</td>\n",
       "      <td>50.0</td>\n",
       "    </tr>\n",
       "    <tr>\n",
       "      <th>5352</th>\n",
       "      <td>North Dakota</td>\n",
       "      <td>2017-03-25</td>\n",
       "      <td>1.240000</td>\n",
       "      <td>1</td>\n",
       "      <td>North Dakota</td>\n",
       "      <td>2017-03-25</td>\n",
       "      <td>48.0</td>\n",
       "    </tr>\n",
       "    <tr>\n",
       "      <th>5353</th>\n",
       "      <td>North Dakota</td>\n",
       "      <td>2017-07-19</td>\n",
       "      <td>4.800000</td>\n",
       "      <td>1</td>\n",
       "      <td>North Dakota</td>\n",
       "      <td>2017-07-19</td>\n",
       "      <td>79.0</td>\n",
       "    </tr>\n",
       "    <tr>\n",
       "      <th>5354</th>\n",
       "      <td>North Dakota</td>\n",
       "      <td>2017-07-29</td>\n",
       "      <td>4.260000</td>\n",
       "      <td>1</td>\n",
       "      <td>North Dakota</td>\n",
       "      <td>2017-07-29</td>\n",
       "      <td>85.0</td>\n",
       "    </tr>\n",
       "  </tbody>\n",
       "</table>\n",
       "</div>"
      ],
      "text/plain": [
       "             state date_object    rating  count         STATE        DATE  \\\n",
       "5350  North Dakota  2017-02-10  4.558333      6  North Dakota  2017-02-10   \n",
       "5351  North Dakota  2017-02-20  3.850000      1  North Dakota  2017-02-20   \n",
       "5352  North Dakota  2017-03-25  1.240000      1  North Dakota  2017-03-25   \n",
       "5353  North Dakota  2017-07-19  4.800000      1  North Dakota  2017-07-19   \n",
       "5354  North Dakota  2017-07-29  4.260000      1  North Dakota  2017-07-29   \n",
       "\n",
       "      MEDIAN_TMAX  \n",
       "5350         27.0  \n",
       "5351         50.0  \n",
       "5352         48.0  \n",
       "5353         79.0  \n",
       "5354         85.0  "
      ]
     },
     "execution_count": 121,
     "metadata": {},
     "output_type": "execute_result"
    }
   ],
   "source": [
    "merged_df[merged_df['state'] == 'North Dakota']"
   ]
  },
  {
   "cell_type": "code",
   "execution_count": 127,
   "metadata": {},
   "outputs": [
    {
     "name": "stderr",
     "output_type": "stream",
     "text": [
      "C:\\Users\\cmnue\\AppData\\Local\\Temp\\ipykernel_9604\\415400362.py:7: DeprecationWarning: DataFrameGroupBy.apply operated on the grouping columns. This behavior is deprecated, and in a future version of pandas the grouping columns will be excluded from the operation. Either pass `include_groups=False` to exclude the groupings or explicitly select the grouping columns after groupby to silence this warning.\n",
      "  state_corr_pvals = merged_df.groupby('state').apply(calculate_corr_pval)\n"
     ]
    },
    {
     "data": {
      "text/html": [
       "<div>\n",
       "<style scoped>\n",
       "    .dataframe tbody tr th:only-of-type {\n",
       "        vertical-align: middle;\n",
       "    }\n",
       "\n",
       "    .dataframe tbody tr th {\n",
       "        vertical-align: top;\n",
       "    }\n",
       "\n",
       "    .dataframe thead th {\n",
       "        text-align: right;\n",
       "    }\n",
       "</style>\n",
       "<table border=\"1\" class=\"dataframe\">\n",
       "  <thead>\n",
       "    <tr style=\"text-align: right;\">\n",
       "      <th></th>\n",
       "      <th>correlation</th>\n",
       "      <th>p_value</th>\n",
       "    </tr>\n",
       "    <tr>\n",
       "      <th>state</th>\n",
       "      <th></th>\n",
       "      <th></th>\n",
       "    </tr>\n",
       "  </thead>\n",
       "  <tbody>\n",
       "    <tr>\n",
       "      <th>Alabama</th>\n",
       "      <td>-0.074259</td>\n",
       "      <td>4.066908e-01</td>\n",
       "    </tr>\n",
       "    <tr>\n",
       "      <th>Alaska</th>\n",
       "      <td>0.170128</td>\n",
       "      <td>3.687539e-01</td>\n",
       "    </tr>\n",
       "    <tr>\n",
       "      <th>Arizona</th>\n",
       "      <td>-0.023883</td>\n",
       "      <td>7.314098e-01</td>\n",
       "    </tr>\n",
       "    <tr>\n",
       "      <th>Arkansas</th>\n",
       "      <td>-0.061537</td>\n",
       "      <td>4.015113e-01</td>\n",
       "    </tr>\n",
       "    <tr>\n",
       "      <th>California</th>\n",
       "      <td>0.007021</td>\n",
       "      <td>9.188664e-01</td>\n",
       "    </tr>\n",
       "    <tr>\n",
       "      <th>Colorado</th>\n",
       "      <td>0.101990</td>\n",
       "      <td>1.407501e-01</td>\n",
       "    </tr>\n",
       "    <tr>\n",
       "      <th>Connecticut</th>\n",
       "      <td>-0.248637</td>\n",
       "      <td>3.137798e-04</td>\n",
       "    </tr>\n",
       "    <tr>\n",
       "      <th>Florida</th>\n",
       "      <td>-0.047055</td>\n",
       "      <td>4.966151e-01</td>\n",
       "    </tr>\n",
       "    <tr>\n",
       "      <th>Georgia</th>\n",
       "      <td>0.066396</td>\n",
       "      <td>3.406608e-01</td>\n",
       "    </tr>\n",
       "    <tr>\n",
       "      <th>Idaho</th>\n",
       "      <td>-0.036700</td>\n",
       "      <td>6.546035e-01</td>\n",
       "    </tr>\n",
       "    <tr>\n",
       "      <th>Illinois</th>\n",
       "      <td>-0.154597</td>\n",
       "      <td>2.437273e-02</td>\n",
       "    </tr>\n",
       "    <tr>\n",
       "      <th>Indiana</th>\n",
       "      <td>-0.061165</td>\n",
       "      <td>3.778331e-01</td>\n",
       "    </tr>\n",
       "    <tr>\n",
       "      <th>Iowa</th>\n",
       "      <td>-0.015701</td>\n",
       "      <td>8.223367e-01</td>\n",
       "    </tr>\n",
       "    <tr>\n",
       "      <th>Kansas</th>\n",
       "      <td>-0.114878</td>\n",
       "      <td>2.502593e-01</td>\n",
       "    </tr>\n",
       "    <tr>\n",
       "      <th>Kentucky</th>\n",
       "      <td>-0.125698</td>\n",
       "      <td>7.181814e-02</td>\n",
       "    </tr>\n",
       "    <tr>\n",
       "      <th>Louisiana</th>\n",
       "      <td>0.229962</td>\n",
       "      <td>2.202702e-03</td>\n",
       "    </tr>\n",
       "    <tr>\n",
       "      <th>Maine</th>\n",
       "      <td>-0.217890</td>\n",
       "      <td>1.790796e-03</td>\n",
       "    </tr>\n",
       "    <tr>\n",
       "      <th>Maryland</th>\n",
       "      <td>-0.007795</td>\n",
       "      <td>9.105913e-01</td>\n",
       "    </tr>\n",
       "    <tr>\n",
       "      <th>Massachusetts</th>\n",
       "      <td>-0.150172</td>\n",
       "      <td>2.919848e-02</td>\n",
       "    </tr>\n",
       "    <tr>\n",
       "      <th>Michigan</th>\n",
       "      <td>-0.150438</td>\n",
       "      <td>2.852858e-02</td>\n",
       "    </tr>\n",
       "    <tr>\n",
       "      <th>Minnesota</th>\n",
       "      <td>-0.112173</td>\n",
       "      <td>1.041925e-01</td>\n",
       "    </tr>\n",
       "    <tr>\n",
       "      <th>Mississippi</th>\n",
       "      <td>-0.226065</td>\n",
       "      <td>4.047867e-03</td>\n",
       "    </tr>\n",
       "    <tr>\n",
       "      <th>Missouri</th>\n",
       "      <td>-0.012737</td>\n",
       "      <td>8.547660e-01</td>\n",
       "    </tr>\n",
       "    <tr>\n",
       "      <th>Montana</th>\n",
       "      <td>0.144806</td>\n",
       "      <td>1.684486e-01</td>\n",
       "    </tr>\n",
       "    <tr>\n",
       "      <th>Nebraska</th>\n",
       "      <td>-0.197468</td>\n",
       "      <td>6.210035e-02</td>\n",
       "    </tr>\n",
       "    <tr>\n",
       "      <th>Nevada</th>\n",
       "      <td>0.202474</td>\n",
       "      <td>1.023791e-02</td>\n",
       "    </tr>\n",
       "    <tr>\n",
       "      <th>New Jersey</th>\n",
       "      <td>0.019555</td>\n",
       "      <td>7.771286e-01</td>\n",
       "    </tr>\n",
       "    <tr>\n",
       "      <th>New Mexico</th>\n",
       "      <td>-0.064114</td>\n",
       "      <td>5.459922e-01</td>\n",
       "    </tr>\n",
       "    <tr>\n",
       "      <th>New York</th>\n",
       "      <td>-0.396184</td>\n",
       "      <td>2.218154e-09</td>\n",
       "    </tr>\n",
       "    <tr>\n",
       "      <th>North Carolina</th>\n",
       "      <td>-0.043288</td>\n",
       "      <td>5.307550e-01</td>\n",
       "    </tr>\n",
       "    <tr>\n",
       "      <th>North Dakota</th>\n",
       "      <td>0.253598</td>\n",
       "      <td>6.806047e-01</td>\n",
       "    </tr>\n",
       "    <tr>\n",
       "      <th>Ohio</th>\n",
       "      <td>-0.115547</td>\n",
       "      <td>9.333277e-02</td>\n",
       "    </tr>\n",
       "    <tr>\n",
       "      <th>Oklahoma</th>\n",
       "      <td>0.022247</td>\n",
       "      <td>7.787132e-01</td>\n",
       "    </tr>\n",
       "    <tr>\n",
       "      <th>Oregon</th>\n",
       "      <td>-0.115946</td>\n",
       "      <td>1.083343e-01</td>\n",
       "    </tr>\n",
       "    <tr>\n",
       "      <th>Pennsylvania</th>\n",
       "      <td>-0.051881</td>\n",
       "      <td>4.523860e-01</td>\n",
       "    </tr>\n",
       "    <tr>\n",
       "      <th>South Carolina</th>\n",
       "      <td>-0.063185</td>\n",
       "      <td>3.622525e-01</td>\n",
       "    </tr>\n",
       "    <tr>\n",
       "      <th>South Dakota</th>\n",
       "      <td>0.234339</td>\n",
       "      <td>7.663303e-02</td>\n",
       "    </tr>\n",
       "    <tr>\n",
       "      <th>Tennessee</th>\n",
       "      <td>0.001120</td>\n",
       "      <td>9.875731e-01</td>\n",
       "    </tr>\n",
       "    <tr>\n",
       "      <th>Texas</th>\n",
       "      <td>-0.071232</td>\n",
       "      <td>3.007681e-01</td>\n",
       "    </tr>\n",
       "    <tr>\n",
       "      <th>Utah</th>\n",
       "      <td>0.228855</td>\n",
       "      <td>4.116066e-02</td>\n",
       "    </tr>\n",
       "    <tr>\n",
       "      <th>Virginia</th>\n",
       "      <td>-0.262745</td>\n",
       "      <td>1.124630e-04</td>\n",
       "    </tr>\n",
       "    <tr>\n",
       "      <th>Washington</th>\n",
       "      <td>-0.168653</td>\n",
       "      <td>1.417202e-02</td>\n",
       "    </tr>\n",
       "    <tr>\n",
       "      <th>West Virginia</th>\n",
       "      <td>-0.112434</td>\n",
       "      <td>1.843725e-01</td>\n",
       "    </tr>\n",
       "    <tr>\n",
       "      <th>Wisconsin</th>\n",
       "      <td>-0.135965</td>\n",
       "      <td>5.020616e-02</td>\n",
       "    </tr>\n",
       "    <tr>\n",
       "      <th>Wyoming</th>\n",
       "      <td>-0.169490</td>\n",
       "      <td>7.401234e-02</td>\n",
       "    </tr>\n",
       "  </tbody>\n",
       "</table>\n",
       "</div>"
      ],
      "text/plain": [
       "                correlation       p_value\n",
       "state                                    \n",
       "Alabama           -0.074259  4.066908e-01\n",
       "Alaska             0.170128  3.687539e-01\n",
       "Arizona           -0.023883  7.314098e-01\n",
       "Arkansas          -0.061537  4.015113e-01\n",
       "California         0.007021  9.188664e-01\n",
       "Colorado           0.101990  1.407501e-01\n",
       "Connecticut       -0.248637  3.137798e-04\n",
       "Florida           -0.047055  4.966151e-01\n",
       "Georgia            0.066396  3.406608e-01\n",
       "Idaho             -0.036700  6.546035e-01\n",
       "Illinois          -0.154597  2.437273e-02\n",
       "Indiana           -0.061165  3.778331e-01\n",
       "Iowa              -0.015701  8.223367e-01\n",
       "Kansas            -0.114878  2.502593e-01\n",
       "Kentucky          -0.125698  7.181814e-02\n",
       "Louisiana          0.229962  2.202702e-03\n",
       "Maine             -0.217890  1.790796e-03\n",
       "Maryland          -0.007795  9.105913e-01\n",
       "Massachusetts     -0.150172  2.919848e-02\n",
       "Michigan          -0.150438  2.852858e-02\n",
       "Minnesota         -0.112173  1.041925e-01\n",
       "Mississippi       -0.226065  4.047867e-03\n",
       "Missouri          -0.012737  8.547660e-01\n",
       "Montana            0.144806  1.684486e-01\n",
       "Nebraska          -0.197468  6.210035e-02\n",
       "Nevada             0.202474  1.023791e-02\n",
       "New Jersey         0.019555  7.771286e-01\n",
       "New Mexico        -0.064114  5.459922e-01\n",
       "New York          -0.396184  2.218154e-09\n",
       "North Carolina    -0.043288  5.307550e-01\n",
       "North Dakota       0.253598  6.806047e-01\n",
       "Ohio              -0.115547  9.333277e-02\n",
       "Oklahoma           0.022247  7.787132e-01\n",
       "Oregon            -0.115946  1.083343e-01\n",
       "Pennsylvania      -0.051881  4.523860e-01\n",
       "South Carolina    -0.063185  3.622525e-01\n",
       "South Dakota       0.234339  7.663303e-02\n",
       "Tennessee          0.001120  9.875731e-01\n",
       "Texas             -0.071232  3.007681e-01\n",
       "Utah               0.228855  4.116066e-02\n",
       "Virginia          -0.262745  1.124630e-04\n",
       "Washington        -0.168653  1.417202e-02\n",
       "West Virginia     -0.112434  1.843725e-01\n",
       "Wisconsin         -0.135965  5.020616e-02\n",
       "Wyoming           -0.169490  7.401234e-02"
      ]
     },
     "execution_count": 127,
     "metadata": {},
     "output_type": "execute_result"
    }
   ],
   "source": [
    "from scipy.stats import pearsonr\n",
    "\n",
    "def calculate_corr_pval(x):\n",
    "    corr, pval = pearsonr(x['rating'], x['MEDIAN_TMAX'])\n",
    "    return pd.Series({'correlation': corr, 'p_value': pval})\n",
    "\n",
    "state_corr_pvals = merged_df.groupby('state').apply(calculate_corr_pval)\n",
    "state_corr_pvals\n",
    "# state_correlations = merged_df.groupby('state').apply(lambda x: x['rating'].corr(x['MEDIAN_TMAX']))\n",
    "# state_correlations\n",
    "#california_df = merged_df[merged_df['state'] == 'California']\n",
    "#pearson_corr = california_df['rating'].corr(california_df['MEDIAN_TMAX'])"
   ]
  },
  {
   "cell_type": "code",
   "execution_count": 128,
   "metadata": {},
   "outputs": [
    {
     "data": {
      "text/html": [
       "<div>\n",
       "<style scoped>\n",
       "    .dataframe tbody tr th:only-of-type {\n",
       "        vertical-align: middle;\n",
       "    }\n",
       "\n",
       "    .dataframe tbody tr th {\n",
       "        vertical-align: top;\n",
       "    }\n",
       "\n",
       "    .dataframe thead th {\n",
       "        text-align: right;\n",
       "    }\n",
       "</style>\n",
       "<table border=\"1\" class=\"dataframe\">\n",
       "  <thead>\n",
       "    <tr style=\"text-align: right;\">\n",
       "      <th></th>\n",
       "      <th>correlation</th>\n",
       "      <th>p_value</th>\n",
       "    </tr>\n",
       "    <tr>\n",
       "      <th>state</th>\n",
       "      <th></th>\n",
       "      <th></th>\n",
       "    </tr>\n",
       "  </thead>\n",
       "  <tbody>\n",
       "    <tr>\n",
       "      <th>Connecticut</th>\n",
       "      <td>-0.248637</td>\n",
       "      <td>3.137798e-04</td>\n",
       "    </tr>\n",
       "    <tr>\n",
       "      <th>Illinois</th>\n",
       "      <td>-0.154597</td>\n",
       "      <td>2.437273e-02</td>\n",
       "    </tr>\n",
       "    <tr>\n",
       "      <th>Louisiana</th>\n",
       "      <td>0.229962</td>\n",
       "      <td>2.202702e-03</td>\n",
       "    </tr>\n",
       "    <tr>\n",
       "      <th>Maine</th>\n",
       "      <td>-0.217890</td>\n",
       "      <td>1.790796e-03</td>\n",
       "    </tr>\n",
       "    <tr>\n",
       "      <th>Massachusetts</th>\n",
       "      <td>-0.150172</td>\n",
       "      <td>2.919848e-02</td>\n",
       "    </tr>\n",
       "    <tr>\n",
       "      <th>Michigan</th>\n",
       "      <td>-0.150438</td>\n",
       "      <td>2.852858e-02</td>\n",
       "    </tr>\n",
       "    <tr>\n",
       "      <th>Mississippi</th>\n",
       "      <td>-0.226065</td>\n",
       "      <td>4.047867e-03</td>\n",
       "    </tr>\n",
       "    <tr>\n",
       "      <th>Nevada</th>\n",
       "      <td>0.202474</td>\n",
       "      <td>1.023791e-02</td>\n",
       "    </tr>\n",
       "    <tr>\n",
       "      <th>New York</th>\n",
       "      <td>-0.396184</td>\n",
       "      <td>2.218154e-09</td>\n",
       "    </tr>\n",
       "    <tr>\n",
       "      <th>Utah</th>\n",
       "      <td>0.228855</td>\n",
       "      <td>4.116066e-02</td>\n",
       "    </tr>\n",
       "    <tr>\n",
       "      <th>Virginia</th>\n",
       "      <td>-0.262745</td>\n",
       "      <td>1.124630e-04</td>\n",
       "    </tr>\n",
       "    <tr>\n",
       "      <th>Washington</th>\n",
       "      <td>-0.168653</td>\n",
       "      <td>1.417202e-02</td>\n",
       "    </tr>\n",
       "  </tbody>\n",
       "</table>\n",
       "</div>"
      ],
      "text/plain": [
       "               correlation       p_value\n",
       "state                                   \n",
       "Connecticut      -0.248637  3.137798e-04\n",
       "Illinois         -0.154597  2.437273e-02\n",
       "Louisiana         0.229962  2.202702e-03\n",
       "Maine            -0.217890  1.790796e-03\n",
       "Massachusetts    -0.150172  2.919848e-02\n",
       "Michigan         -0.150438  2.852858e-02\n",
       "Mississippi      -0.226065  4.047867e-03\n",
       "Nevada            0.202474  1.023791e-02\n",
       "New York         -0.396184  2.218154e-09\n",
       "Utah              0.228855  4.116066e-02\n",
       "Virginia         -0.262745  1.124630e-04\n",
       "Washington       -0.168653  1.417202e-02"
      ]
     },
     "execution_count": 128,
     "metadata": {},
     "output_type": "execute_result"
    }
   ],
   "source": [
    "significant_corrs = state_corr_pvals[state_corr_pvals['p_value'] < 0.05]\n",
    "significant_corrs"
   ]
  },
  {
   "cell_type": "code",
   "execution_count": 138,
   "metadata": {},
   "outputs": [
    {
     "data": {
      "text/html": [
       "<div>\n",
       "<style scoped>\n",
       "    .dataframe tbody tr th:only-of-type {\n",
       "        vertical-align: middle;\n",
       "    }\n",
       "\n",
       "    .dataframe tbody tr th {\n",
       "        vertical-align: top;\n",
       "    }\n",
       "\n",
       "    .dataframe thead th {\n",
       "        text-align: right;\n",
       "    }\n",
       "</style>\n",
       "<table border=\"1\" class=\"dataframe\">\n",
       "  <thead>\n",
       "    <tr style=\"text-align: right;\">\n",
       "      <th></th>\n",
       "      <th>state</th>\n",
       "      <th>correlation</th>\n",
       "      <th>abbreviation</th>\n",
       "    </tr>\n",
       "  </thead>\n",
       "  <tbody>\n",
       "    <tr>\n",
       "      <th>0</th>\n",
       "      <td>Alabama</td>\n",
       "      <td>-0.095421</td>\n",
       "      <td>AL</td>\n",
       "    </tr>\n",
       "    <tr>\n",
       "      <th>1</th>\n",
       "      <td>Alaska</td>\n",
       "      <td>0.660200</td>\n",
       "      <td>AK</td>\n",
       "    </tr>\n",
       "    <tr>\n",
       "      <th>2</th>\n",
       "      <td>Arizona</td>\n",
       "      <td>-0.103147</td>\n",
       "      <td>AZ</td>\n",
       "    </tr>\n",
       "    <tr>\n",
       "      <th>3</th>\n",
       "      <td>Arkansas</td>\n",
       "      <td>0.873834</td>\n",
       "      <td>AR</td>\n",
       "    </tr>\n",
       "    <tr>\n",
       "      <th>4</th>\n",
       "      <td>California</td>\n",
       "      <td>-0.600897</td>\n",
       "      <td>CA</td>\n",
       "    </tr>\n",
       "    <tr>\n",
       "      <th>5</th>\n",
       "      <td>Colorado</td>\n",
       "      <td>0.006079</td>\n",
       "      <td>CO</td>\n",
       "    </tr>\n",
       "    <tr>\n",
       "      <th>6</th>\n",
       "      <td>Connecticut</td>\n",
       "      <td>0.754363</td>\n",
       "      <td>CT</td>\n",
       "    </tr>\n",
       "    <tr>\n",
       "      <th>7</th>\n",
       "      <td>Delaware</td>\n",
       "      <td>-0.140506</td>\n",
       "      <td>DE</td>\n",
       "    </tr>\n",
       "    <tr>\n",
       "      <th>8</th>\n",
       "      <td>Florida</td>\n",
       "      <td>0.347582</td>\n",
       "      <td>FL</td>\n",
       "    </tr>\n",
       "    <tr>\n",
       "      <th>9</th>\n",
       "      <td>Georgia</td>\n",
       "      <td>0.419809</td>\n",
       "      <td>GA</td>\n",
       "    </tr>\n",
       "  </tbody>\n",
       "</table>\n",
       "</div>"
      ],
      "text/plain": [
       "         state  correlation abbreviation\n",
       "0      Alabama    -0.095421           AL\n",
       "1       Alaska     0.660200           AK\n",
       "2      Arizona    -0.103147           AZ\n",
       "3     Arkansas     0.873834           AR\n",
       "4   California    -0.600897           CA\n",
       "5     Colorado     0.006079           CO\n",
       "6  Connecticut     0.754363           CT\n",
       "7     Delaware    -0.140506           DE\n",
       "8      Florida     0.347582           FL\n",
       "9      Georgia     0.419809           GA"
      ]
     },
     "execution_count": 138,
     "metadata": {},
     "output_type": "execute_result"
    }
   ],
   "source": [
    "merge_with_states(sample_data)"
   ]
  },
  {
   "cell_type": "code",
   "execution_count": 140,
   "metadata": {},
   "outputs": [
    {
     "data": {
      "text/html": [
       "<div>\n",
       "<style scoped>\n",
       "    .dataframe tbody tr th:only-of-type {\n",
       "        vertical-align: middle;\n",
       "    }\n",
       "\n",
       "    .dataframe tbody tr th {\n",
       "        vertical-align: top;\n",
       "    }\n",
       "\n",
       "    .dataframe thead th {\n",
       "        text-align: right;\n",
       "    }\n",
       "</style>\n",
       "<table border=\"1\" class=\"dataframe\">\n",
       "  <thead>\n",
       "    <tr style=\"text-align: right;\">\n",
       "      <th></th>\n",
       "      <th>state</th>\n",
       "      <th>correlation</th>\n",
       "      <th>p_value</th>\n",
       "      <th>abbreviation</th>\n",
       "    </tr>\n",
       "  </thead>\n",
       "  <tbody>\n",
       "    <tr>\n",
       "      <th>0</th>\n",
       "      <td>Connecticut</td>\n",
       "      <td>-0.248637</td>\n",
       "      <td>3.137798e-04</td>\n",
       "      <td>CT</td>\n",
       "    </tr>\n",
       "    <tr>\n",
       "      <th>1</th>\n",
       "      <td>Illinois</td>\n",
       "      <td>-0.154597</td>\n",
       "      <td>2.437273e-02</td>\n",
       "      <td>IL</td>\n",
       "    </tr>\n",
       "    <tr>\n",
       "      <th>2</th>\n",
       "      <td>Louisiana</td>\n",
       "      <td>0.229962</td>\n",
       "      <td>2.202702e-03</td>\n",
       "      <td>LA</td>\n",
       "    </tr>\n",
       "    <tr>\n",
       "      <th>3</th>\n",
       "      <td>Maine</td>\n",
       "      <td>-0.217890</td>\n",
       "      <td>1.790796e-03</td>\n",
       "      <td>ME</td>\n",
       "    </tr>\n",
       "    <tr>\n",
       "      <th>4</th>\n",
       "      <td>Massachusetts</td>\n",
       "      <td>-0.150172</td>\n",
       "      <td>2.919848e-02</td>\n",
       "      <td>MA</td>\n",
       "    </tr>\n",
       "    <tr>\n",
       "      <th>5</th>\n",
       "      <td>Michigan</td>\n",
       "      <td>-0.150438</td>\n",
       "      <td>2.852858e-02</td>\n",
       "      <td>MI</td>\n",
       "    </tr>\n",
       "    <tr>\n",
       "      <th>6</th>\n",
       "      <td>Mississippi</td>\n",
       "      <td>-0.226065</td>\n",
       "      <td>4.047867e-03</td>\n",
       "      <td>MS</td>\n",
       "    </tr>\n",
       "    <tr>\n",
       "      <th>7</th>\n",
       "      <td>Nevada</td>\n",
       "      <td>0.202474</td>\n",
       "      <td>1.023791e-02</td>\n",
       "      <td>NV</td>\n",
       "    </tr>\n",
       "    <tr>\n",
       "      <th>8</th>\n",
       "      <td>New York</td>\n",
       "      <td>-0.396184</td>\n",
       "      <td>2.218154e-09</td>\n",
       "      <td>NY</td>\n",
       "    </tr>\n",
       "    <tr>\n",
       "      <th>9</th>\n",
       "      <td>Utah</td>\n",
       "      <td>0.228855</td>\n",
       "      <td>4.116066e-02</td>\n",
       "      <td>UT</td>\n",
       "    </tr>\n",
       "    <tr>\n",
       "      <th>10</th>\n",
       "      <td>Virginia</td>\n",
       "      <td>-0.262745</td>\n",
       "      <td>1.124630e-04</td>\n",
       "      <td>VA</td>\n",
       "    </tr>\n",
       "    <tr>\n",
       "      <th>11</th>\n",
       "      <td>Washington</td>\n",
       "      <td>-0.168653</td>\n",
       "      <td>1.417202e-02</td>\n",
       "      <td>WA</td>\n",
       "    </tr>\n",
       "  </tbody>\n",
       "</table>\n",
       "</div>"
      ],
      "text/plain": [
       "            state  correlation       p_value abbreviation\n",
       "0     Connecticut    -0.248637  3.137798e-04           CT\n",
       "1        Illinois    -0.154597  2.437273e-02           IL\n",
       "2       Louisiana     0.229962  2.202702e-03           LA\n",
       "3           Maine    -0.217890  1.790796e-03           ME\n",
       "4   Massachusetts    -0.150172  2.919848e-02           MA\n",
       "5        Michigan    -0.150438  2.852858e-02           MI\n",
       "6     Mississippi    -0.226065  4.047867e-03           MS\n",
       "7          Nevada     0.202474  1.023791e-02           NV\n",
       "8        New York    -0.396184  2.218154e-09           NY\n",
       "9            Utah     0.228855  4.116066e-02           UT\n",
       "10       Virginia    -0.262745  1.124630e-04           VA\n",
       "11     Washington    -0.168653  1.417202e-02           WA"
      ]
     },
     "execution_count": 140,
     "metadata": {},
     "output_type": "execute_result"
    }
   ],
   "source": [
    "merge_with_states(significant_corrs)"
   ]
  },
  {
   "cell_type": "code",
   "execution_count": 143,
   "metadata": {},
   "outputs": [
    {
     "data": {
      "application/vnd.plotly.v1+json": {
       "config": {
        "plotlyServerURL": "https://plot.ly"
       },
       "data": [
        {
         "coloraxis": "coloraxis",
         "geo": "geo",
         "hovertemplate": "abbreviation=%{location}<br>correlation=%{z}<extra></extra>",
         "locationmode": "USA-states",
         "locations": [
          "CT",
          "IL",
          "LA",
          "ME",
          "MA",
          "MI",
          "MS",
          "NV",
          "NY",
          "UT",
          "VA",
          "WA"
         ],
         "name": "",
         "type": "choropleth",
         "z": [
          -0.24863670155139986,
          -0.15459651464365576,
          0.22996199215182228,
          -0.2178904251219509,
          -0.1501718880059578,
          -0.150438131134718,
          -0.22606498667581232,
          0.2024741341045308,
          -0.396184061546671,
          0.22885473222513467,
          -0.26274534369358693,
          -0.16865325255350982
         ]
        }
       ],
       "layout": {
        "coloraxis": {
         "colorbar": {
          "title": {
           "text": "correlation"
          }
         },
         "colorscale": [
          [
           0,
           "#440154"
          ],
          [
           0.1111111111111111,
           "#482878"
          ],
          [
           0.2222222222222222,
           "#3e4989"
          ],
          [
           0.3333333333333333,
           "#31688e"
          ],
          [
           0.4444444444444444,
           "#26828e"
          ],
          [
           0.5555555555555556,
           "#1f9e89"
          ],
          [
           0.6666666666666666,
           "#35b779"
          ],
          [
           0.7777777777777778,
           "#6ece58"
          ],
          [
           0.8888888888888888,
           "#b5de2b"
          ],
          [
           1,
           "#fde725"
          ]
         ]
        },
        "geo": {
         "center": {},
         "domain": {
          "x": [
           0,
           1
          ],
          "y": [
           0,
           1
          ]
         },
         "scope": "usa"
        },
        "legend": {
         "tracegroupgap": 0
        },
        "template": {
         "data": {
          "bar": [
           {
            "error_x": {
             "color": "#2a3f5f"
            },
            "error_y": {
             "color": "#2a3f5f"
            },
            "marker": {
             "line": {
              "color": "#E5ECF6",
              "width": 0.5
             },
             "pattern": {
              "fillmode": "overlay",
              "size": 10,
              "solidity": 0.2
             }
            },
            "type": "bar"
           }
          ],
          "barpolar": [
           {
            "marker": {
             "line": {
              "color": "#E5ECF6",
              "width": 0.5
             },
             "pattern": {
              "fillmode": "overlay",
              "size": 10,
              "solidity": 0.2
             }
            },
            "type": "barpolar"
           }
          ],
          "carpet": [
           {
            "aaxis": {
             "endlinecolor": "#2a3f5f",
             "gridcolor": "white",
             "linecolor": "white",
             "minorgridcolor": "white",
             "startlinecolor": "#2a3f5f"
            },
            "baxis": {
             "endlinecolor": "#2a3f5f",
             "gridcolor": "white",
             "linecolor": "white",
             "minorgridcolor": "white",
             "startlinecolor": "#2a3f5f"
            },
            "type": "carpet"
           }
          ],
          "choropleth": [
           {
            "colorbar": {
             "outlinewidth": 0,
             "ticks": ""
            },
            "type": "choropleth"
           }
          ],
          "contour": [
           {
            "colorbar": {
             "outlinewidth": 0,
             "ticks": ""
            },
            "colorscale": [
             [
              0,
              "#0d0887"
             ],
             [
              0.1111111111111111,
              "#46039f"
             ],
             [
              0.2222222222222222,
              "#7201a8"
             ],
             [
              0.3333333333333333,
              "#9c179e"
             ],
             [
              0.4444444444444444,
              "#bd3786"
             ],
             [
              0.5555555555555556,
              "#d8576b"
             ],
             [
              0.6666666666666666,
              "#ed7953"
             ],
             [
              0.7777777777777778,
              "#fb9f3a"
             ],
             [
              0.8888888888888888,
              "#fdca26"
             ],
             [
              1,
              "#f0f921"
             ]
            ],
            "type": "contour"
           }
          ],
          "contourcarpet": [
           {
            "colorbar": {
             "outlinewidth": 0,
             "ticks": ""
            },
            "type": "contourcarpet"
           }
          ],
          "heatmap": [
           {
            "colorbar": {
             "outlinewidth": 0,
             "ticks": ""
            },
            "colorscale": [
             [
              0,
              "#0d0887"
             ],
             [
              0.1111111111111111,
              "#46039f"
             ],
             [
              0.2222222222222222,
              "#7201a8"
             ],
             [
              0.3333333333333333,
              "#9c179e"
             ],
             [
              0.4444444444444444,
              "#bd3786"
             ],
             [
              0.5555555555555556,
              "#d8576b"
             ],
             [
              0.6666666666666666,
              "#ed7953"
             ],
             [
              0.7777777777777778,
              "#fb9f3a"
             ],
             [
              0.8888888888888888,
              "#fdca26"
             ],
             [
              1,
              "#f0f921"
             ]
            ],
            "type": "heatmap"
           }
          ],
          "heatmapgl": [
           {
            "colorbar": {
             "outlinewidth": 0,
             "ticks": ""
            },
            "colorscale": [
             [
              0,
              "#0d0887"
             ],
             [
              0.1111111111111111,
              "#46039f"
             ],
             [
              0.2222222222222222,
              "#7201a8"
             ],
             [
              0.3333333333333333,
              "#9c179e"
             ],
             [
              0.4444444444444444,
              "#bd3786"
             ],
             [
              0.5555555555555556,
              "#d8576b"
             ],
             [
              0.6666666666666666,
              "#ed7953"
             ],
             [
              0.7777777777777778,
              "#fb9f3a"
             ],
             [
              0.8888888888888888,
              "#fdca26"
             ],
             [
              1,
              "#f0f921"
             ]
            ],
            "type": "heatmapgl"
           }
          ],
          "histogram": [
           {
            "marker": {
             "pattern": {
              "fillmode": "overlay",
              "size": 10,
              "solidity": 0.2
             }
            },
            "type": "histogram"
           }
          ],
          "histogram2d": [
           {
            "colorbar": {
             "outlinewidth": 0,
             "ticks": ""
            },
            "colorscale": [
             [
              0,
              "#0d0887"
             ],
             [
              0.1111111111111111,
              "#46039f"
             ],
             [
              0.2222222222222222,
              "#7201a8"
             ],
             [
              0.3333333333333333,
              "#9c179e"
             ],
             [
              0.4444444444444444,
              "#bd3786"
             ],
             [
              0.5555555555555556,
              "#d8576b"
             ],
             [
              0.6666666666666666,
              "#ed7953"
             ],
             [
              0.7777777777777778,
              "#fb9f3a"
             ],
             [
              0.8888888888888888,
              "#fdca26"
             ],
             [
              1,
              "#f0f921"
             ]
            ],
            "type": "histogram2d"
           }
          ],
          "histogram2dcontour": [
           {
            "colorbar": {
             "outlinewidth": 0,
             "ticks": ""
            },
            "colorscale": [
             [
              0,
              "#0d0887"
             ],
             [
              0.1111111111111111,
              "#46039f"
             ],
             [
              0.2222222222222222,
              "#7201a8"
             ],
             [
              0.3333333333333333,
              "#9c179e"
             ],
             [
              0.4444444444444444,
              "#bd3786"
             ],
             [
              0.5555555555555556,
              "#d8576b"
             ],
             [
              0.6666666666666666,
              "#ed7953"
             ],
             [
              0.7777777777777778,
              "#fb9f3a"
             ],
             [
              0.8888888888888888,
              "#fdca26"
             ],
             [
              1,
              "#f0f921"
             ]
            ],
            "type": "histogram2dcontour"
           }
          ],
          "mesh3d": [
           {
            "colorbar": {
             "outlinewidth": 0,
             "ticks": ""
            },
            "type": "mesh3d"
           }
          ],
          "parcoords": [
           {
            "line": {
             "colorbar": {
              "outlinewidth": 0,
              "ticks": ""
             }
            },
            "type": "parcoords"
           }
          ],
          "pie": [
           {
            "automargin": true,
            "type": "pie"
           }
          ],
          "scatter": [
           {
            "fillpattern": {
             "fillmode": "overlay",
             "size": 10,
             "solidity": 0.2
            },
            "type": "scatter"
           }
          ],
          "scatter3d": [
           {
            "line": {
             "colorbar": {
              "outlinewidth": 0,
              "ticks": ""
             }
            },
            "marker": {
             "colorbar": {
              "outlinewidth": 0,
              "ticks": ""
             }
            },
            "type": "scatter3d"
           }
          ],
          "scattercarpet": [
           {
            "marker": {
             "colorbar": {
              "outlinewidth": 0,
              "ticks": ""
             }
            },
            "type": "scattercarpet"
           }
          ],
          "scattergeo": [
           {
            "marker": {
             "colorbar": {
              "outlinewidth": 0,
              "ticks": ""
             }
            },
            "type": "scattergeo"
           }
          ],
          "scattergl": [
           {
            "marker": {
             "colorbar": {
              "outlinewidth": 0,
              "ticks": ""
             }
            },
            "type": "scattergl"
           }
          ],
          "scattermapbox": [
           {
            "marker": {
             "colorbar": {
              "outlinewidth": 0,
              "ticks": ""
             }
            },
            "type": "scattermapbox"
           }
          ],
          "scatterpolar": [
           {
            "marker": {
             "colorbar": {
              "outlinewidth": 0,
              "ticks": ""
             }
            },
            "type": "scatterpolar"
           }
          ],
          "scatterpolargl": [
           {
            "marker": {
             "colorbar": {
              "outlinewidth": 0,
              "ticks": ""
             }
            },
            "type": "scatterpolargl"
           }
          ],
          "scatterternary": [
           {
            "marker": {
             "colorbar": {
              "outlinewidth": 0,
              "ticks": ""
             }
            },
            "type": "scatterternary"
           }
          ],
          "surface": [
           {
            "colorbar": {
             "outlinewidth": 0,
             "ticks": ""
            },
            "colorscale": [
             [
              0,
              "#0d0887"
             ],
             [
              0.1111111111111111,
              "#46039f"
             ],
             [
              0.2222222222222222,
              "#7201a8"
             ],
             [
              0.3333333333333333,
              "#9c179e"
             ],
             [
              0.4444444444444444,
              "#bd3786"
             ],
             [
              0.5555555555555556,
              "#d8576b"
             ],
             [
              0.6666666666666666,
              "#ed7953"
             ],
             [
              0.7777777777777778,
              "#fb9f3a"
             ],
             [
              0.8888888888888888,
              "#fdca26"
             ],
             [
              1,
              "#f0f921"
             ]
            ],
            "type": "surface"
           }
          ],
          "table": [
           {
            "cells": {
             "fill": {
              "color": "#EBF0F8"
             },
             "line": {
              "color": "white"
             }
            },
            "header": {
             "fill": {
              "color": "#C8D4E3"
             },
             "line": {
              "color": "white"
             }
            },
            "type": "table"
           }
          ]
         },
         "layout": {
          "annotationdefaults": {
           "arrowcolor": "#2a3f5f",
           "arrowhead": 0,
           "arrowwidth": 1
          },
          "autotypenumbers": "strict",
          "coloraxis": {
           "colorbar": {
            "outlinewidth": 0,
            "ticks": ""
           }
          },
          "colorscale": {
           "diverging": [
            [
             0,
             "#8e0152"
            ],
            [
             0.1,
             "#c51b7d"
            ],
            [
             0.2,
             "#de77ae"
            ],
            [
             0.3,
             "#f1b6da"
            ],
            [
             0.4,
             "#fde0ef"
            ],
            [
             0.5,
             "#f7f7f7"
            ],
            [
             0.6,
             "#e6f5d0"
            ],
            [
             0.7,
             "#b8e186"
            ],
            [
             0.8,
             "#7fbc41"
            ],
            [
             0.9,
             "#4d9221"
            ],
            [
             1,
             "#276419"
            ]
           ],
           "sequential": [
            [
             0,
             "#0d0887"
            ],
            [
             0.1111111111111111,
             "#46039f"
            ],
            [
             0.2222222222222222,
             "#7201a8"
            ],
            [
             0.3333333333333333,
             "#9c179e"
            ],
            [
             0.4444444444444444,
             "#bd3786"
            ],
            [
             0.5555555555555556,
             "#d8576b"
            ],
            [
             0.6666666666666666,
             "#ed7953"
            ],
            [
             0.7777777777777778,
             "#fb9f3a"
            ],
            [
             0.8888888888888888,
             "#fdca26"
            ],
            [
             1,
             "#f0f921"
            ]
           ],
           "sequentialminus": [
            [
             0,
             "#0d0887"
            ],
            [
             0.1111111111111111,
             "#46039f"
            ],
            [
             0.2222222222222222,
             "#7201a8"
            ],
            [
             0.3333333333333333,
             "#9c179e"
            ],
            [
             0.4444444444444444,
             "#bd3786"
            ],
            [
             0.5555555555555556,
             "#d8576b"
            ],
            [
             0.6666666666666666,
             "#ed7953"
            ],
            [
             0.7777777777777778,
             "#fb9f3a"
            ],
            [
             0.8888888888888888,
             "#fdca26"
            ],
            [
             1,
             "#f0f921"
            ]
           ]
          },
          "colorway": [
           "#636efa",
           "#EF553B",
           "#00cc96",
           "#ab63fa",
           "#FFA15A",
           "#19d3f3",
           "#FF6692",
           "#B6E880",
           "#FF97FF",
           "#FECB52"
          ],
          "font": {
           "color": "#2a3f5f"
          },
          "geo": {
           "bgcolor": "white",
           "lakecolor": "white",
           "landcolor": "#E5ECF6",
           "showlakes": true,
           "showland": true,
           "subunitcolor": "white"
          },
          "hoverlabel": {
           "align": "left"
          },
          "hovermode": "closest",
          "mapbox": {
           "style": "light"
          },
          "paper_bgcolor": "white",
          "plot_bgcolor": "#E5ECF6",
          "polar": {
           "angularaxis": {
            "gridcolor": "white",
            "linecolor": "white",
            "ticks": ""
           },
           "bgcolor": "#E5ECF6",
           "radialaxis": {
            "gridcolor": "white",
            "linecolor": "white",
            "ticks": ""
           }
          },
          "scene": {
           "xaxis": {
            "backgroundcolor": "#E5ECF6",
            "gridcolor": "white",
            "gridwidth": 2,
            "linecolor": "white",
            "showbackground": true,
            "ticks": "",
            "zerolinecolor": "white"
           },
           "yaxis": {
            "backgroundcolor": "#E5ECF6",
            "gridcolor": "white",
            "gridwidth": 2,
            "linecolor": "white",
            "showbackground": true,
            "ticks": "",
            "zerolinecolor": "white"
           },
           "zaxis": {
            "backgroundcolor": "#E5ECF6",
            "gridcolor": "white",
            "gridwidth": 2,
            "linecolor": "white",
            "showbackground": true,
            "ticks": "",
            "zerolinecolor": "white"
           }
          },
          "shapedefaults": {
           "line": {
            "color": "#2a3f5f"
           }
          },
          "ternary": {
           "aaxis": {
            "gridcolor": "white",
            "linecolor": "white",
            "ticks": ""
           },
           "baxis": {
            "gridcolor": "white",
            "linecolor": "white",
            "ticks": ""
           },
           "bgcolor": "#E5ECF6",
           "caxis": {
            "gridcolor": "white",
            "linecolor": "white",
            "ticks": ""
           }
          },
          "title": {
           "x": 0.05
          },
          "xaxis": {
           "automargin": true,
           "gridcolor": "white",
           "linecolor": "white",
           "ticks": "",
           "title": {
            "standoff": 15
           },
           "zerolinecolor": "white",
           "zerolinewidth": 2
          },
          "yaxis": {
           "automargin": true,
           "gridcolor": "white",
           "linecolor": "white",
           "ticks": "",
           "title": {
            "standoff": 15
           },
           "zerolinecolor": "white",
           "zerolinewidth": 2
          }
         }
        },
        "title": {
         "text": "Significant Correlations by State"
        }
       }
      }
     },
     "metadata": {},
     "output_type": "display_data"
    }
   ],
   "source": [
    "import plotly.express as px\n",
    "from src.utils.preProcessingHelper import merge_with_states \n",
    "\n",
    "# Generate sample data for plotting\n",
    "sample_data = pd.DataFrame({\n",
    "    'state': ['Alabama', 'Alaska', 'Arizona', 'Arkansas', 'California', 'Colorado', 'Connecticut', 'Delaware', 'Florida', 'Georgia'],\n",
    "    'correlation': np.random.uniform(-1, 1, 10)\n",
    "})\n",
    "\n",
    "# Display the sample data\n",
    "# sample_data\n",
    "\n",
    "fig = px.choropleth(merge_with_states(significant_corrs), \n",
    "                    locations='abbreviation', \n",
    "                    locationmode='USA-states', \n",
    "                    color='correlation', \n",
    "                    color_continuous_scale=\"Viridis\",\n",
    "                    scope=\"usa\",\n",
    "                    title='Significant Correlations by State')\n",
    "fig.show()"
   ]
  },
  {
   "cell_type": "code",
   "execution_count": 119,
   "metadata": {},
   "outputs": [
    {
     "data": {
      "image/png": "[encoded data removed]",
      "text/plain": [
       "<Figure size 1000x500 with 2 Axes>"
      ]
     },
     "metadata": {},
     "output_type": "display_data"
    }
   ],
   "source": [
    "fig, ax1 = plt.subplots(figsize=(10, 5))\n",
    "\n",
    "# Plot MEDIAN_TMAX on the left y-axis\n",
    "ax1.plot(new_york_df['date_object'], new_york_df['MEDIAN_TMAX'], label='MEDIAN_TMAX', color='blue')\n",
    "ax1.set_xlabel('Date')\n",
    "ax1.set_ylabel('MEDIAN_TMAX', color='blue')\n",
    "ax1.tick_params(axis='y', labelcolor='blue')\n",
    "\n",
    "# Create a second y-axis for the ratings\n",
    "ax2 = ax1.twinx()\n",
    "ax2.plot(new_york_df['date_object'], new_york_df['rating'], label='Rating', color='red')\n",
    "ax2.set_ylabel('Rating', color='red')\n",
    "ax2.tick_params(axis='y', labelcolor='red')\n",
    "\n",
    "# Add title and legend\n",
    "plt.title('MEDIAN_TMAX and Ratings for New York')\n",
    "fig.tight_layout()\n",
    "\n",
    "# Show the plot\n",
    "plt.show()"
   ]
  },
  {
   "cell_type": "code",
   "execution_count": 123,
   "metadata": {},
   "outputs": [
    {
     "data": {
      "text/plain": [
       "(79454, 19)"
      ]
     },
     "execution_count": 123,
     "metadata": {},
     "output_type": "execute_result"
    }
   ],
   "source": [
    "merged_big_df = pd.merge(beer_df[beer_df['year'] == 2017], grouped_ghcn_df, left_on=['state', 'date_object'], right_on=['STATE', 'DATE'])\n",
    "merged_big_df.shape"
   ]
  },
  {
   "cell_type": "code",
   "execution_count": 125,
   "metadata": {},
   "outputs": [
    {
     "data": {
      "text/html": [
       "<div>\n",
       "<style scoped>\n",
       "    .dataframe tbody tr th:only-of-type {\n",
       "        vertical-align: middle;\n",
       "    }\n",
       "\n",
       "    .dataframe tbody tr th {\n",
       "        vertical-align: top;\n",
       "    }\n",
       "\n",
       "    .dataframe thead th {\n",
       "        text-align: right;\n",
       "    }\n",
       "</style>\n",
       "<table border=\"1\" class=\"dataframe\">\n",
       "  <thead>\n",
       "    <tr style=\"text-align: right;\">\n",
       "      <th></th>\n",
       "      <th>rating</th>\n",
       "      <th>STATE</th>\n",
       "      <th>DATE</th>\n",
       "      <th>MEDIAN_TMAX</th>\n",
       "    </tr>\n",
       "  </thead>\n",
       "  <tbody>\n",
       "    <tr>\n",
       "      <th>0</th>\n",
       "      <td>3.79</td>\n",
       "      <td>Connecticut</td>\n",
       "      <td>2017-04-17</td>\n",
       "      <td>81.0</td>\n",
       "    </tr>\n",
       "    <tr>\n",
       "      <th>1</th>\n",
       "      <td>3.71</td>\n",
       "      <td>New York</td>\n",
       "      <td>2017-02-22</td>\n",
       "      <td>52.0</td>\n",
       "    </tr>\n",
       "    <tr>\n",
       "      <th>2</th>\n",
       "      <td>3.84</td>\n",
       "      <td>New York</td>\n",
       "      <td>2017-02-23</td>\n",
       "      <td>64.5</td>\n",
       "    </tr>\n",
       "  </tbody>\n",
       "</table>\n",
       "</div>"
      ],
      "text/plain": [
       "   rating        STATE        DATE  MEDIAN_TMAX\n",
       "0    3.79  Connecticut  2017-04-17         81.0\n",
       "1    3.71     New York  2017-02-22         52.0\n",
       "2    3.84     New York  2017-02-23         64.5"
      ]
     },
     "execution_count": 125,
     "metadata": {},
     "output_type": "execute_result"
    }
   ],
   "source": [
    "merged_big_df = merged_big_df[['rating', 'STATE', 'DATE', 'MEDIAN_TMAX']]\n",
    "merged_big_df.head(3)"
   ]
  },
  {
   "cell_type": "code",
   "execution_count": 126,
   "metadata": {},
   "outputs": [
    {
     "name": "stderr",
     "output_type": "stream",
     "text": [
      "C:\\Users\\cmnue\\AppData\\Local\\Temp\\ipykernel_9604\\215790640.py:7: DeprecationWarning: DataFrameGroupBy.apply operated on the grouping columns. This behavior is deprecated, and in a future version of pandas the grouping columns will be excluded from the operation. Either pass `include_groups=False` to exclude the groupings or explicitly select the grouping columns after groupby to silence this warning.\n",
      "  state_corr_pvals = merged_big_df.groupby('STATE').apply(calculate_corr_pval)\n"
     ]
    },
    {
     "data": {
      "text/html": [
       "<div>\n",
       "<style scoped>\n",
       "    .dataframe tbody tr th:only-of-type {\n",
       "        vertical-align: middle;\n",
       "    }\n",
       "\n",
       "    .dataframe tbody tr th {\n",
       "        vertical-align: top;\n",
       "    }\n",
       "\n",
       "    .dataframe thead th {\n",
       "        text-align: right;\n",
       "    }\n",
       "</style>\n",
       "<table border=\"1\" class=\"dataframe\">\n",
       "  <thead>\n",
       "    <tr style=\"text-align: right;\">\n",
       "      <th></th>\n",
       "      <th>correlation</th>\n",
       "      <th>p_value</th>\n",
       "    </tr>\n",
       "    <tr>\n",
       "      <th>STATE</th>\n",
       "      <th></th>\n",
       "      <th></th>\n",
       "    </tr>\n",
       "  </thead>\n",
       "  <tbody>\n",
       "    <tr>\n",
       "      <th>Alabama</th>\n",
       "      <td>-0.058949</td>\n",
       "      <td>3.309648e-01</td>\n",
       "    </tr>\n",
       "    <tr>\n",
       "      <th>Alaska</th>\n",
       "      <td>0.114283</td>\n",
       "      <td>5.068945e-01</td>\n",
       "    </tr>\n",
       "    <tr>\n",
       "      <th>Arizona</th>\n",
       "      <td>-0.034209</td>\n",
       "      <td>2.683061e-01</td>\n",
       "    </tr>\n",
       "    <tr>\n",
       "      <th>Arkansas</th>\n",
       "      <td>-0.066676</td>\n",
       "      <td>1.425828e-01</td>\n",
       "    </tr>\n",
       "    <tr>\n",
       "      <th>California</th>\n",
       "      <td>-0.007777</td>\n",
       "      <td>5.761838e-01</td>\n",
       "    </tr>\n",
       "    <tr>\n",
       "      <th>Colorado</th>\n",
       "      <td>-0.003601</td>\n",
       "      <td>8.474811e-01</td>\n",
       "    </tr>\n",
       "    <tr>\n",
       "      <th>Connecticut</th>\n",
       "      <td>-0.118701</td>\n",
       "      <td>8.551317e-07</td>\n",
       "    </tr>\n",
       "    <tr>\n",
       "      <th>Florida</th>\n",
       "      <td>-0.038652</td>\n",
       "      <td>6.600311e-02</td>\n",
       "    </tr>\n",
       "    <tr>\n",
       "      <th>Georgia</th>\n",
       "      <td>-0.007643</td>\n",
       "      <td>7.580279e-01</td>\n",
       "    </tr>\n",
       "    <tr>\n",
       "      <th>Idaho</th>\n",
       "      <td>-0.132627</td>\n",
       "      <td>9.407436e-04</td>\n",
       "    </tr>\n",
       "    <tr>\n",
       "      <th>Illinois</th>\n",
       "      <td>-0.039058</td>\n",
       "      <td>6.350466e-03</td>\n",
       "    </tr>\n",
       "    <tr>\n",
       "      <th>Indiana</th>\n",
       "      <td>-0.038316</td>\n",
       "      <td>1.533617e-01</td>\n",
       "    </tr>\n",
       "    <tr>\n",
       "      <th>Iowa</th>\n",
       "      <td>-0.035216</td>\n",
       "      <td>2.699959e-01</td>\n",
       "    </tr>\n",
       "    <tr>\n",
       "      <th>Kansas</th>\n",
       "      <td>-0.086373</td>\n",
       "      <td>1.908465e-01</td>\n",
       "    </tr>\n",
       "    <tr>\n",
       "      <th>Kentucky</th>\n",
       "      <td>-0.068731</td>\n",
       "      <td>3.435168e-02</td>\n",
       "    </tr>\n",
       "    <tr>\n",
       "      <th>Louisiana</th>\n",
       "      <td>0.158266</td>\n",
       "      <td>1.168143e-03</td>\n",
       "    </tr>\n",
       "    <tr>\n",
       "      <th>Maine</th>\n",
       "      <td>-0.148841</td>\n",
       "      <td>1.704909e-05</td>\n",
       "    </tr>\n",
       "    <tr>\n",
       "      <th>Maryland</th>\n",
       "      <td>-0.026077</td>\n",
       "      <td>3.146175e-01</td>\n",
       "    </tr>\n",
       "    <tr>\n",
       "      <th>Massachusetts</th>\n",
       "      <td>-0.043050</td>\n",
       "      <td>1.850969e-03</td>\n",
       "    </tr>\n",
       "    <tr>\n",
       "      <th>Michigan</th>\n",
       "      <td>-0.030748</td>\n",
       "      <td>9.805840e-02</td>\n",
       "    </tr>\n",
       "    <tr>\n",
       "      <th>Minnesota</th>\n",
       "      <td>-0.031492</td>\n",
       "      <td>9.670898e-02</td>\n",
       "    </tr>\n",
       "    <tr>\n",
       "      <th>Mississippi</th>\n",
       "      <td>-0.092747</td>\n",
       "      <td>6.765385e-02</td>\n",
       "    </tr>\n",
       "    <tr>\n",
       "      <th>Missouri</th>\n",
       "      <td>-0.027153</td>\n",
       "      <td>1.795404e-01</td>\n",
       "    </tr>\n",
       "    <tr>\n",
       "      <th>Montana</th>\n",
       "      <td>0.100428</td>\n",
       "      <td>1.509222e-01</td>\n",
       "    </tr>\n",
       "    <tr>\n",
       "      <th>Nebraska</th>\n",
       "      <td>-0.203025</td>\n",
       "      <td>1.128912e-02</td>\n",
       "    </tr>\n",
       "    <tr>\n",
       "      <th>Nevada</th>\n",
       "      <td>0.104233</td>\n",
       "      <td>2.049616e-02</td>\n",
       "    </tr>\n",
       "    <tr>\n",
       "      <th>New Jersey</th>\n",
       "      <td>0.001186</td>\n",
       "      <td>9.461122e-01</td>\n",
       "    </tr>\n",
       "    <tr>\n",
       "      <th>New Mexico</th>\n",
       "      <td>-0.119877</td>\n",
       "      <td>1.373482e-01</td>\n",
       "    </tr>\n",
       "    <tr>\n",
       "      <th>New York</th>\n",
       "      <td>-0.099917</td>\n",
       "      <td>2.211394e-17</td>\n",
       "    </tr>\n",
       "    <tr>\n",
       "      <th>North Carolina</th>\n",
       "      <td>-0.000354</td>\n",
       "      <td>9.864445e-01</td>\n",
       "    </tr>\n",
       "    <tr>\n",
       "      <th>North Dakota</th>\n",
       "      <td>-0.124127</td>\n",
       "      <td>7.326174e-01</td>\n",
       "    </tr>\n",
       "    <tr>\n",
       "      <th>Ohio</th>\n",
       "      <td>-0.045854</td>\n",
       "      <td>6.110404e-03</td>\n",
       "    </tr>\n",
       "    <tr>\n",
       "      <th>Oklahoma</th>\n",
       "      <td>0.075284</td>\n",
       "      <td>9.667802e-02</td>\n",
       "    </tr>\n",
       "    <tr>\n",
       "      <th>Oregon</th>\n",
       "      <td>-0.027434</td>\n",
       "      <td>3.931474e-01</td>\n",
       "    </tr>\n",
       "    <tr>\n",
       "      <th>Pennsylvania</th>\n",
       "      <td>-0.011350</td>\n",
       "      <td>3.572024e-01</td>\n",
       "    </tr>\n",
       "    <tr>\n",
       "      <th>South Carolina</th>\n",
       "      <td>-0.053966</td>\n",
       "      <td>3.444355e-02</td>\n",
       "    </tr>\n",
       "    <tr>\n",
       "      <th>South Dakota</th>\n",
       "      <td>0.218907</td>\n",
       "      <td>1.499129e-02</td>\n",
       "    </tr>\n",
       "    <tr>\n",
       "      <th>Tennessee</th>\n",
       "      <td>-0.009970</td>\n",
       "      <td>7.767976e-01</td>\n",
       "    </tr>\n",
       "    <tr>\n",
       "      <th>Texas</th>\n",
       "      <td>-0.004968</td>\n",
       "      <td>7.935047e-01</td>\n",
       "    </tr>\n",
       "    <tr>\n",
       "      <th>Utah</th>\n",
       "      <td>0.259977</td>\n",
       "      <td>3.979906e-03</td>\n",
       "    </tr>\n",
       "    <tr>\n",
       "      <th>Virginia</th>\n",
       "      <td>-0.090509</td>\n",
       "      <td>2.614674e-07</td>\n",
       "    </tr>\n",
       "    <tr>\n",
       "      <th>Washington</th>\n",
       "      <td>-0.035345</td>\n",
       "      <td>5.875803e-02</td>\n",
       "    </tr>\n",
       "    <tr>\n",
       "      <th>West Virginia</th>\n",
       "      <td>-0.095706</td>\n",
       "      <td>1.008808e-01</td>\n",
       "    </tr>\n",
       "    <tr>\n",
       "      <th>Wisconsin</th>\n",
       "      <td>-0.026959</td>\n",
       "      <td>3.606147e-01</td>\n",
       "    </tr>\n",
       "    <tr>\n",
       "      <th>Wyoming</th>\n",
       "      <td>-0.146115</td>\n",
       "      <td>4.780162e-02</td>\n",
       "    </tr>\n",
       "  </tbody>\n",
       "</table>\n",
       "</div>"
      ],
      "text/plain": [
       "                correlation       p_value\n",
       "STATE                                    \n",
       "Alabama           -0.058949  3.309648e-01\n",
       "Alaska             0.114283  5.068945e-01\n",
       "Arizona           -0.034209  2.683061e-01\n",
       "Arkansas          -0.066676  1.425828e-01\n",
       "California        -0.007777  5.761838e-01\n",
       "Colorado          -0.003601  8.474811e-01\n",
       "Connecticut       -0.118701  8.551317e-07\n",
       "Florida           -0.038652  6.600311e-02\n",
       "Georgia           -0.007643  7.580279e-01\n",
       "Idaho             -0.132627  9.407436e-04\n",
       "Illinois          -0.039058  6.350466e-03\n",
       "Indiana           -0.038316  1.533617e-01\n",
       "Iowa              -0.035216  2.699959e-01\n",
       "Kansas            -0.086373  1.908465e-01\n",
       "Kentucky          -0.068731  3.435168e-02\n",
       "Louisiana          0.158266  1.168143e-03\n",
       "Maine             -0.148841  1.704909e-05\n",
       "Maryland          -0.026077  3.146175e-01\n",
       "Massachusetts     -0.043050  1.850969e-03\n",
       "Michigan          -0.030748  9.805840e-02\n",
       "Minnesota         -0.031492  9.670898e-02\n",
       "Mississippi       -0.092747  6.765385e-02\n",
       "Missouri          -0.027153  1.795404e-01\n",
       "Montana            0.100428  1.509222e-01\n",
       "Nebraska          -0.203025  1.128912e-02\n",
       "Nevada             0.104233  2.049616e-02\n",
       "New Jersey         0.001186  9.461122e-01\n",
       "New Mexico        -0.119877  1.373482e-01\n",
       "New York          -0.099917  2.211394e-17\n",
       "North Carolina    -0.000354  9.864445e-01\n",
       "North Dakota      -0.124127  7.326174e-01\n",
       "Ohio              -0.045854  6.110404e-03\n",
       "Oklahoma           0.075284  9.667802e-02\n",
       "Oregon            -0.027434  3.931474e-01\n",
       "Pennsylvania      -0.011350  3.572024e-01\n",
       "South Carolina    -0.053966  3.444355e-02\n",
       "South Dakota       0.218907  1.499129e-02\n",
       "Tennessee         -0.009970  7.767976e-01\n",
       "Texas             -0.004968  7.935047e-01\n",
       "Utah               0.259977  3.979906e-03\n",
       "Virginia          -0.090509  2.614674e-07\n",
       "Washington        -0.035345  5.875803e-02\n",
       "West Virginia     -0.095706  1.008808e-01\n",
       "Wisconsin         -0.026959  3.606147e-01\n",
       "Wyoming           -0.146115  4.780162e-02"
      ]
     },
     "execution_count": 126,
     "metadata": {},
     "output_type": "execute_result"
    }
   ],
   "source": [
    "from scipy.stats import pearsonr\n",
    "\n",
    "def calculate_corr_pval(x):\n",
    "    corr, pval = pearsonr(x['rating'], x['MEDIAN_TMAX'])\n",
    "    return pd.Series({'correlation': corr, 'p_value': pval})\n",
    "\n",
    "state_corr_pvals = merged_big_df.groupby('STATE').apply(calculate_corr_pval)\n",
    "state_corr_pvals"
   ]
  }
 ],
 "metadata": {
  "kernelspec": {
   "display_name": "ada-project",
   "language": "python",
   "name": "python3"
  },
  "language_info": {
   "codemirror_mode": {
    "name": "ipython",
    "version": 3
   },
   "file_extension": ".py",
   "mimetype": "text/x-python",
   "name": "python",
   "nbconvert_exporter": "python",
   "pygments_lexer": "ipython3",
   "version": "3.13.0"
  }
 },
 "nbformat": 4,
 "nbformat_minor": 2
}
